{
  "nbformat": 4,
  "nbformat_minor": 0,
  "metadata": {
    "colab": {
      "provenance": [],
      "mount_file_id": "https://github.com/masterZarei/AI_Uni/blob/main/HW2.ipynb",
      "authorship_tag": "ABX9TyPTDnMOPftTmw5bK0fT9ah5"
    },
    "kernelspec": {
      "name": "python3",
      "display_name": "Python 3"
    },
    "language_info": {
      "name": "python"
    }
  },
  "cells": [
    {
      "cell_type": "code",
      "source": [
        "import pandas as pd\n",
        "import numpy as np"
      ],
      "metadata": {
        "id": "15_vY-NGFCtt"
      },
      "execution_count": 2,
      "outputs": []
    },
    {
      "cell_type": "code",
      "source": [
        "df=pd.read_csv('/content/drive/MyDrive/Colab Notebooks/Ecommerce Purchases.csv')"
      ],
      "metadata": {
        "id": "khAPmxzAF1WL"
      },
      "execution_count": 4,
      "outputs": []
    },
    {
      "cell_type": "code",
      "source": [
        "#7تعداد شغل های منحصر به فرد\n",
        "#8چند نفر شغلشون رقاص بودند)(dancer)\n",
        "#9از هر عنوان شغلی چه تعدادی خرید انجام شده\n",
        "#10چندنفر صبح خرید کردن چند نفر شب\n",
        "#11ایمیل فردی با این شماره کارت را به من بده(6011929061123406)\n",
        "#12 چند نفر از مسترکارت و بالای 95 دلار خرید کردند\n",
        "#13فقط سال انقضا را به من نمایش دهد. ماه را حذف کند\n",
        "#14چند تا کارت سال 2025 منقضی میشود\n",
        "#15بیشترین خریدها از چه ایمیل هایی بوده استمثلا جیمیل یا یاهو."
      ],
      "metadata": {
        "id": "6mcvWJBVGWB2"
      },
      "execution_count": null,
      "outputs": []
    },
    {
      "cell_type": "code",
      "source": [
        "df.columns"
      ],
      "metadata": {
        "colab": {
          "base_uri": "https://localhost:8080/"
        },
        "id": "BvDhWQVtGmQO",
        "outputId": "0b07806d-05b3-4dce-b3fa-3766c280d0a1"
      },
      "execution_count": null,
      "outputs": [
        {
          "output_type": "execute_result",
          "data": {
            "text/plain": [
              "Index(['Address', 'Lot', 'AM or PM', 'Browser Info', 'Company', 'Credit Card',\n",
              "       'CC Exp Date', 'CC Security Code', 'CC Provider', 'Email', 'Job',\n",
              "       'IP Address', 'Language', 'Purchase Price'],\n",
              "      dtype='object')"
            ]
          },
          "metadata": {},
          "execution_count": 11
        }
      ]
    },
    {
      "cell_type": "code",
      "source": [
        "#7تعداد شغل های منحصر به فرد\n",
        "df['Job'].nunique()"
      ],
      "metadata": {
        "colab": {
          "base_uri": "https://localhost:8080/"
        },
        "id": "5rYm0dP-Gawu",
        "outputId": "397c87f5-ed0d-4b8e-87d2-a26d0b6b1198"
      },
      "execution_count": null,
      "outputs": [
        {
          "output_type": "execute_result",
          "data": {
            "text/plain": [
              "623"
            ]
          },
          "metadata": {},
          "execution_count": 134
        }
      ]
    },
    {
      "cell_type": "code",
      "source": [
        "#8چند نفر شغلشون رقاص بودند)(dancer)\n",
        "df[df['Job']=='Dancer'].count()[1]"
      ],
      "metadata": {
        "colab": {
          "base_uri": "https://localhost:8080/"
        },
        "id": "u5RyMUKkH2K8",
        "outputId": "dc37fc40-e353-442e-b350-801b1139d124"
      },
      "execution_count": null,
      "outputs": [
        {
          "output_type": "stream",
          "name": "stderr",
          "text": [
            "<ipython-input-138-b86cbb1b6fa5>:2: FutureWarning: Series.__getitem__ treating keys as positions is deprecated. In a future version, integer keys will always be treated as labels (consistent with DataFrame behavior). To access a value by position, use `ser.iloc[pos]`\n",
            "  df[df['Job']=='Dancer'].count()[1]\n"
          ]
        },
        {
          "output_type": "execute_result",
          "data": {
            "text/plain": [
              "14"
            ]
          },
          "metadata": {},
          "execution_count": 138
        }
      ]
    },
    {
      "cell_type": "code",
      "source": [
        "#9از هر عنوان شغلی چه تعدادی خرید انجام شده\n",
        "df.groupby('Job').count()"
      ],
      "metadata": {
        "colab": {
          "base_uri": "https://localhost:8080/",
          "height": 666
        },
        "id": "9XZ4MzYzItbr",
        "outputId": "953b65d3-297c-4861-de3a-f478e310712f"
      },
      "execution_count": null,
      "outputs": [
        {
          "output_type": "execute_result",
          "data": {
            "text/plain": [
              "                                  Address  Lot  AM or PM  Browser Info  \\\n",
              "Job                                                                      \n",
              "Academic librarian                     11   11        11            11   \n",
              "Accommodation manager                  17   17        17            17   \n",
              "Accountant, chartered                  20   20        20            20   \n",
              "Accountant, chartered certified        18   18        18            18   \n",
              "Accountant, chartered management       15   15        15            15   \n",
              "...                                   ...  ...       ...           ...   \n",
              "Water quality scientist                18   18        18            18   \n",
              "Web designer                           20   20        20            20   \n",
              "Wellsite geologist                     24   24        24            24   \n",
              "Writer                                 10   10        10            10   \n",
              "Youth worker                           18   18        18            18   \n",
              "\n",
              "                                  Company  Credit Card  CC Exp Date  \\\n",
              "Job                                                                   \n",
              "Academic librarian                     11           11           11   \n",
              "Accommodation manager                  17           17           17   \n",
              "Accountant, chartered                  20           20           20   \n",
              "Accountant, chartered certified        18           18           18   \n",
              "Accountant, chartered management       15           15           15   \n",
              "...                                   ...          ...          ...   \n",
              "Water quality scientist                18           18           18   \n",
              "Web designer                           20           20           20   \n",
              "Wellsite geologist                     24           24           24   \n",
              "Writer                                 10           10           10   \n",
              "Youth worker                           18           18           18   \n",
              "\n",
              "                                  CC Security Code  CC Provider  Email  \\\n",
              "Job                                                                      \n",
              "Academic librarian                              11           11     11   \n",
              "Accommodation manager                           17           17     17   \n",
              "Accountant, chartered                           20           20     20   \n",
              "Accountant, chartered certified                 18           18     18   \n",
              "Accountant, chartered management                15           15     15   \n",
              "...                                            ...          ...    ...   \n",
              "Water quality scientist                         18           18     18   \n",
              "Web designer                                    20           20     20   \n",
              "Wellsite geologist                              24           24     24   \n",
              "Writer                                          10           10     10   \n",
              "Youth worker                                    18           18     18   \n",
              "\n",
              "                                  IP Address  Language  Purchase Price  \n",
              "Job                                                                     \n",
              "Academic librarian                        11        11              11  \n",
              "Accommodation manager                     17        17              17  \n",
              "Accountant, chartered                     20        20              20  \n",
              "Accountant, chartered certified           18        18              18  \n",
              "Accountant, chartered management          15        15              15  \n",
              "...                                      ...       ...             ...  \n",
              "Water quality scientist                   18        18              18  \n",
              "Web designer                              20        20              20  \n",
              "Wellsite geologist                        24        24              24  \n",
              "Writer                                    10        10              10  \n",
              "Youth worker                              18        18              18  \n",
              "\n",
              "[623 rows x 13 columns]"
            ],
            "text/html": [
              "\n",
              "  <div id=\"df-1644a68c-8ea7-4b60-9614-4dde08cc818f\" class=\"colab-df-container\">\n",
              "    <div>\n",
              "<style scoped>\n",
              "    .dataframe tbody tr th:only-of-type {\n",
              "        vertical-align: middle;\n",
              "    }\n",
              "\n",
              "    .dataframe tbody tr th {\n",
              "        vertical-align: top;\n",
              "    }\n",
              "\n",
              "    .dataframe thead th {\n",
              "        text-align: right;\n",
              "    }\n",
              "</style>\n",
              "<table border=\"1\" class=\"dataframe\">\n",
              "  <thead>\n",
              "    <tr style=\"text-align: right;\">\n",
              "      <th></th>\n",
              "      <th>Address</th>\n",
              "      <th>Lot</th>\n",
              "      <th>AM or PM</th>\n",
              "      <th>Browser Info</th>\n",
              "      <th>Company</th>\n",
              "      <th>Credit Card</th>\n",
              "      <th>CC Exp Date</th>\n",
              "      <th>CC Security Code</th>\n",
              "      <th>CC Provider</th>\n",
              "      <th>Email</th>\n",
              "      <th>IP Address</th>\n",
              "      <th>Language</th>\n",
              "      <th>Purchase Price</th>\n",
              "    </tr>\n",
              "    <tr>\n",
              "      <th>Job</th>\n",
              "      <th></th>\n",
              "      <th></th>\n",
              "      <th></th>\n",
              "      <th></th>\n",
              "      <th></th>\n",
              "      <th></th>\n",
              "      <th></th>\n",
              "      <th></th>\n",
              "      <th></th>\n",
              "      <th></th>\n",
              "      <th></th>\n",
              "      <th></th>\n",
              "      <th></th>\n",
              "    </tr>\n",
              "  </thead>\n",
              "  <tbody>\n",
              "    <tr>\n",
              "      <th>Academic librarian</th>\n",
              "      <td>11</td>\n",
              "      <td>11</td>\n",
              "      <td>11</td>\n",
              "      <td>11</td>\n",
              "      <td>11</td>\n",
              "      <td>11</td>\n",
              "      <td>11</td>\n",
              "      <td>11</td>\n",
              "      <td>11</td>\n",
              "      <td>11</td>\n",
              "      <td>11</td>\n",
              "      <td>11</td>\n",
              "      <td>11</td>\n",
              "    </tr>\n",
              "    <tr>\n",
              "      <th>Accommodation manager</th>\n",
              "      <td>17</td>\n",
              "      <td>17</td>\n",
              "      <td>17</td>\n",
              "      <td>17</td>\n",
              "      <td>17</td>\n",
              "      <td>17</td>\n",
              "      <td>17</td>\n",
              "      <td>17</td>\n",
              "      <td>17</td>\n",
              "      <td>17</td>\n",
              "      <td>17</td>\n",
              "      <td>17</td>\n",
              "      <td>17</td>\n",
              "    </tr>\n",
              "    <tr>\n",
              "      <th>Accountant, chartered</th>\n",
              "      <td>20</td>\n",
              "      <td>20</td>\n",
              "      <td>20</td>\n",
              "      <td>20</td>\n",
              "      <td>20</td>\n",
              "      <td>20</td>\n",
              "      <td>20</td>\n",
              "      <td>20</td>\n",
              "      <td>20</td>\n",
              "      <td>20</td>\n",
              "      <td>20</td>\n",
              "      <td>20</td>\n",
              "      <td>20</td>\n",
              "    </tr>\n",
              "    <tr>\n",
              "      <th>Accountant, chartered certified</th>\n",
              "      <td>18</td>\n",
              "      <td>18</td>\n",
              "      <td>18</td>\n",
              "      <td>18</td>\n",
              "      <td>18</td>\n",
              "      <td>18</td>\n",
              "      <td>18</td>\n",
              "      <td>18</td>\n",
              "      <td>18</td>\n",
              "      <td>18</td>\n",
              "      <td>18</td>\n",
              "      <td>18</td>\n",
              "      <td>18</td>\n",
              "    </tr>\n",
              "    <tr>\n",
              "      <th>Accountant, chartered management</th>\n",
              "      <td>15</td>\n",
              "      <td>15</td>\n",
              "      <td>15</td>\n",
              "      <td>15</td>\n",
              "      <td>15</td>\n",
              "      <td>15</td>\n",
              "      <td>15</td>\n",
              "      <td>15</td>\n",
              "      <td>15</td>\n",
              "      <td>15</td>\n",
              "      <td>15</td>\n",
              "      <td>15</td>\n",
              "      <td>15</td>\n",
              "    </tr>\n",
              "    <tr>\n",
              "      <th>...</th>\n",
              "      <td>...</td>\n",
              "      <td>...</td>\n",
              "      <td>...</td>\n",
              "      <td>...</td>\n",
              "      <td>...</td>\n",
              "      <td>...</td>\n",
              "      <td>...</td>\n",
              "      <td>...</td>\n",
              "      <td>...</td>\n",
              "      <td>...</td>\n",
              "      <td>...</td>\n",
              "      <td>...</td>\n",
              "      <td>...</td>\n",
              "    </tr>\n",
              "    <tr>\n",
              "      <th>Water quality scientist</th>\n",
              "      <td>18</td>\n",
              "      <td>18</td>\n",
              "      <td>18</td>\n",
              "      <td>18</td>\n",
              "      <td>18</td>\n",
              "      <td>18</td>\n",
              "      <td>18</td>\n",
              "      <td>18</td>\n",
              "      <td>18</td>\n",
              "      <td>18</td>\n",
              "      <td>18</td>\n",
              "      <td>18</td>\n",
              "      <td>18</td>\n",
              "    </tr>\n",
              "    <tr>\n",
              "      <th>Web designer</th>\n",
              "      <td>20</td>\n",
              "      <td>20</td>\n",
              "      <td>20</td>\n",
              "      <td>20</td>\n",
              "      <td>20</td>\n",
              "      <td>20</td>\n",
              "      <td>20</td>\n",
              "      <td>20</td>\n",
              "      <td>20</td>\n",
              "      <td>20</td>\n",
              "      <td>20</td>\n",
              "      <td>20</td>\n",
              "      <td>20</td>\n",
              "    </tr>\n",
              "    <tr>\n",
              "      <th>Wellsite geologist</th>\n",
              "      <td>24</td>\n",
              "      <td>24</td>\n",
              "      <td>24</td>\n",
              "      <td>24</td>\n",
              "      <td>24</td>\n",
              "      <td>24</td>\n",
              "      <td>24</td>\n",
              "      <td>24</td>\n",
              "      <td>24</td>\n",
              "      <td>24</td>\n",
              "      <td>24</td>\n",
              "      <td>24</td>\n",
              "      <td>24</td>\n",
              "    </tr>\n",
              "    <tr>\n",
              "      <th>Writer</th>\n",
              "      <td>10</td>\n",
              "      <td>10</td>\n",
              "      <td>10</td>\n",
              "      <td>10</td>\n",
              "      <td>10</td>\n",
              "      <td>10</td>\n",
              "      <td>10</td>\n",
              "      <td>10</td>\n",
              "      <td>10</td>\n",
              "      <td>10</td>\n",
              "      <td>10</td>\n",
              "      <td>10</td>\n",
              "      <td>10</td>\n",
              "    </tr>\n",
              "    <tr>\n",
              "      <th>Youth worker</th>\n",
              "      <td>18</td>\n",
              "      <td>18</td>\n",
              "      <td>18</td>\n",
              "      <td>18</td>\n",
              "      <td>18</td>\n",
              "      <td>18</td>\n",
              "      <td>18</td>\n",
              "      <td>18</td>\n",
              "      <td>18</td>\n",
              "      <td>18</td>\n",
              "      <td>18</td>\n",
              "      <td>18</td>\n",
              "      <td>18</td>\n",
              "    </tr>\n",
              "  </tbody>\n",
              "</table>\n",
              "<p>623 rows × 13 columns</p>\n",
              "</div>\n",
              "    <div class=\"colab-df-buttons\">\n",
              "\n",
              "  <div class=\"colab-df-container\">\n",
              "    <button class=\"colab-df-convert\" onclick=\"convertToInteractive('df-1644a68c-8ea7-4b60-9614-4dde08cc818f')\"\n",
              "            title=\"Convert this dataframe to an interactive table.\"\n",
              "            style=\"display:none;\">\n",
              "\n",
              "  <svg xmlns=\"http://www.w3.org/2000/svg\" height=\"24px\" viewBox=\"0 -960 960 960\">\n",
              "    <path d=\"M120-120v-720h720v720H120Zm60-500h600v-160H180v160Zm220 220h160v-160H400v160Zm0 220h160v-160H400v160ZM180-400h160v-160H180v160Zm440 0h160v-160H620v160ZM180-180h160v-160H180v160Zm440 0h160v-160H620v160Z\"/>\n",
              "  </svg>\n",
              "    </button>\n",
              "\n",
              "  <style>\n",
              "    .colab-df-container {\n",
              "      display:flex;\n",
              "      gap: 12px;\n",
              "    }\n",
              "\n",
              "    .colab-df-convert {\n",
              "      background-color: #E8F0FE;\n",
              "      border: none;\n",
              "      border-radius: 50%;\n",
              "      cursor: pointer;\n",
              "      display: none;\n",
              "      fill: #1967D2;\n",
              "      height: 32px;\n",
              "      padding: 0 0 0 0;\n",
              "      width: 32px;\n",
              "    }\n",
              "\n",
              "    .colab-df-convert:hover {\n",
              "      background-color: #E2EBFA;\n",
              "      box-shadow: 0px 1px 2px rgba(60, 64, 67, 0.3), 0px 1px 3px 1px rgba(60, 64, 67, 0.15);\n",
              "      fill: #174EA6;\n",
              "    }\n",
              "\n",
              "    .colab-df-buttons div {\n",
              "      margin-bottom: 4px;\n",
              "    }\n",
              "\n",
              "    [theme=dark] .colab-df-convert {\n",
              "      background-color: #3B4455;\n",
              "      fill: #D2E3FC;\n",
              "    }\n",
              "\n",
              "    [theme=dark] .colab-df-convert:hover {\n",
              "      background-color: #434B5C;\n",
              "      box-shadow: 0px 1px 3px 1px rgba(0, 0, 0, 0.15);\n",
              "      filter: drop-shadow(0px 1px 2px rgba(0, 0, 0, 0.3));\n",
              "      fill: #FFFFFF;\n",
              "    }\n",
              "  </style>\n",
              "\n",
              "    <script>\n",
              "      const buttonEl =\n",
              "        document.querySelector('#df-1644a68c-8ea7-4b60-9614-4dde08cc818f button.colab-df-convert');\n",
              "      buttonEl.style.display =\n",
              "        google.colab.kernel.accessAllowed ? 'block' : 'none';\n",
              "\n",
              "      async function convertToInteractive(key) {\n",
              "        const element = document.querySelector('#df-1644a68c-8ea7-4b60-9614-4dde08cc818f');\n",
              "        const dataTable =\n",
              "          await google.colab.kernel.invokeFunction('convertToInteractive',\n",
              "                                                    [key], {});\n",
              "        if (!dataTable) return;\n",
              "\n",
              "        const docLinkHtml = 'Like what you see? Visit the ' +\n",
              "          '<a target=\"_blank\" href=https://colab.research.google.com/notebooks/data_table.ipynb>data table notebook</a>'\n",
              "          + ' to learn more about interactive tables.';\n",
              "        element.innerHTML = '';\n",
              "        dataTable['output_type'] = 'display_data';\n",
              "        await google.colab.output.renderOutput(dataTable, element);\n",
              "        const docLink = document.createElement('div');\n",
              "        docLink.innerHTML = docLinkHtml;\n",
              "        element.appendChild(docLink);\n",
              "      }\n",
              "    </script>\n",
              "  </div>\n",
              "\n",
              "\n",
              "<div id=\"df-7dd6bbfd-a2f5-427d-afac-8da0b7b6fac5\">\n",
              "  <button class=\"colab-df-quickchart\" onclick=\"quickchart('df-7dd6bbfd-a2f5-427d-afac-8da0b7b6fac5')\"\n",
              "            title=\"Suggest charts\"\n",
              "            style=\"display:none;\">\n",
              "\n",
              "<svg xmlns=\"http://www.w3.org/2000/svg\" height=\"24px\"viewBox=\"0 0 24 24\"\n",
              "     width=\"24px\">\n",
              "    <g>\n",
              "        <path d=\"M19 3H5c-1.1 0-2 .9-2 2v14c0 1.1.9 2 2 2h14c1.1 0 2-.9 2-2V5c0-1.1-.9-2-2-2zM9 17H7v-7h2v7zm4 0h-2V7h2v10zm4 0h-2v-4h2v4z\"/>\n",
              "    </g>\n",
              "</svg>\n",
              "  </button>\n",
              "\n",
              "<style>\n",
              "  .colab-df-quickchart {\n",
              "      --bg-color: #E8F0FE;\n",
              "      --fill-color: #1967D2;\n",
              "      --hover-bg-color: #E2EBFA;\n",
              "      --hover-fill-color: #174EA6;\n",
              "      --disabled-fill-color: #AAA;\n",
              "      --disabled-bg-color: #DDD;\n",
              "  }\n",
              "\n",
              "  [theme=dark] .colab-df-quickchart {\n",
              "      --bg-color: #3B4455;\n",
              "      --fill-color: #D2E3FC;\n",
              "      --hover-bg-color: #434B5C;\n",
              "      --hover-fill-color: #FFFFFF;\n",
              "      --disabled-bg-color: #3B4455;\n",
              "      --disabled-fill-color: #666;\n",
              "  }\n",
              "\n",
              "  .colab-df-quickchart {\n",
              "    background-color: var(--bg-color);\n",
              "    border: none;\n",
              "    border-radius: 50%;\n",
              "    cursor: pointer;\n",
              "    display: none;\n",
              "    fill: var(--fill-color);\n",
              "    height: 32px;\n",
              "    padding: 0;\n",
              "    width: 32px;\n",
              "  }\n",
              "\n",
              "  .colab-df-quickchart:hover {\n",
              "    background-color: var(--hover-bg-color);\n",
              "    box-shadow: 0 1px 2px rgba(60, 64, 67, 0.3), 0 1px 3px 1px rgba(60, 64, 67, 0.15);\n",
              "    fill: var(--button-hover-fill-color);\n",
              "  }\n",
              "\n",
              "  .colab-df-quickchart-complete:disabled,\n",
              "  .colab-df-quickchart-complete:disabled:hover {\n",
              "    background-color: var(--disabled-bg-color);\n",
              "    fill: var(--disabled-fill-color);\n",
              "    box-shadow: none;\n",
              "  }\n",
              "\n",
              "  .colab-df-spinner {\n",
              "    border: 2px solid var(--fill-color);\n",
              "    border-color: transparent;\n",
              "    border-bottom-color: var(--fill-color);\n",
              "    animation:\n",
              "      spin 1s steps(1) infinite;\n",
              "  }\n",
              "\n",
              "  @keyframes spin {\n",
              "    0% {\n",
              "      border-color: transparent;\n",
              "      border-bottom-color: var(--fill-color);\n",
              "      border-left-color: var(--fill-color);\n",
              "    }\n",
              "    20% {\n",
              "      border-color: transparent;\n",
              "      border-left-color: var(--fill-color);\n",
              "      border-top-color: var(--fill-color);\n",
              "    }\n",
              "    30% {\n",
              "      border-color: transparent;\n",
              "      border-left-color: var(--fill-color);\n",
              "      border-top-color: var(--fill-color);\n",
              "      border-right-color: var(--fill-color);\n",
              "    }\n",
              "    40% {\n",
              "      border-color: transparent;\n",
              "      border-right-color: var(--fill-color);\n",
              "      border-top-color: var(--fill-color);\n",
              "    }\n",
              "    60% {\n",
              "      border-color: transparent;\n",
              "      border-right-color: var(--fill-color);\n",
              "    }\n",
              "    80% {\n",
              "      border-color: transparent;\n",
              "      border-right-color: var(--fill-color);\n",
              "      border-bottom-color: var(--fill-color);\n",
              "    }\n",
              "    90% {\n",
              "      border-color: transparent;\n",
              "      border-bottom-color: var(--fill-color);\n",
              "    }\n",
              "  }\n",
              "</style>\n",
              "\n",
              "  <script>\n",
              "    async function quickchart(key) {\n",
              "      const quickchartButtonEl =\n",
              "        document.querySelector('#' + key + ' button');\n",
              "      quickchartButtonEl.disabled = true;  // To prevent multiple clicks.\n",
              "      quickchartButtonEl.classList.add('colab-df-spinner');\n",
              "      try {\n",
              "        const charts = await google.colab.kernel.invokeFunction(\n",
              "            'suggestCharts', [key], {});\n",
              "      } catch (error) {\n",
              "        console.error('Error during call to suggestCharts:', error);\n",
              "      }\n",
              "      quickchartButtonEl.classList.remove('colab-df-spinner');\n",
              "      quickchartButtonEl.classList.add('colab-df-quickchart-complete');\n",
              "    }\n",
              "    (() => {\n",
              "      let quickchartButtonEl =\n",
              "        document.querySelector('#df-7dd6bbfd-a2f5-427d-afac-8da0b7b6fac5 button');\n",
              "      quickchartButtonEl.style.display =\n",
              "        google.colab.kernel.accessAllowed ? 'block' : 'none';\n",
              "    })();\n",
              "  </script>\n",
              "</div>\n",
              "    </div>\n",
              "  </div>\n"
            ],
            "application/vnd.google.colaboratory.intrinsic+json": {
              "type": "dataframe",
              "summary": "{\n  \"name\": \"df\",\n  \"rows\": 623,\n  \"fields\": [\n    {\n      \"column\": \"Job\",\n      \"properties\": {\n        \"dtype\": \"string\",\n        \"num_unique_values\": 623,\n        \"samples\": [\n          \"Freight forwarder\",\n          \"Surveyor, mining\",\n          \"Education officer, environmental\"\n        ],\n        \"semantic_type\": \"\",\n        \"description\": \"\"\n      }\n    },\n    {\n      \"column\": \"Address\",\n      \"properties\": {\n        \"dtype\": \"number\",\n        \"std\": 4,\n        \"min\": 5,\n        \"max\": 31,\n        \"num_unique_values\": 26,\n        \"samples\": [\n          16,\n          22,\n          11\n        ],\n        \"semantic_type\": \"\",\n        \"description\": \"\"\n      }\n    },\n    {\n      \"column\": \"Lot\",\n      \"properties\": {\n        \"dtype\": \"number\",\n        \"std\": 4,\n        \"min\": 5,\n        \"max\": 31,\n        \"num_unique_values\": 26,\n        \"samples\": [\n          16,\n          22,\n          11\n        ],\n        \"semantic_type\": \"\",\n        \"description\": \"\"\n      }\n    },\n    {\n      \"column\": \"AM or PM\",\n      \"properties\": {\n        \"dtype\": \"number\",\n        \"std\": 4,\n        \"min\": 5,\n        \"max\": 31,\n        \"num_unique_values\": 26,\n        \"samples\": [\n          16,\n          22,\n          11\n        ],\n        \"semantic_type\": \"\",\n        \"description\": \"\"\n      }\n    },\n    {\n      \"column\": \"Browser Info\",\n      \"properties\": {\n        \"dtype\": \"number\",\n        \"std\": 4,\n        \"min\": 5,\n        \"max\": 31,\n        \"num_unique_values\": 26,\n        \"samples\": [\n          16,\n          22,\n          11\n        ],\n        \"semantic_type\": \"\",\n        \"description\": \"\"\n      }\n    },\n    {\n      \"column\": \"Company\",\n      \"properties\": {\n        \"dtype\": \"number\",\n        \"std\": 4,\n        \"min\": 5,\n        \"max\": 31,\n        \"num_unique_values\": 26,\n        \"samples\": [\n          16,\n          22,\n          11\n        ],\n        \"semantic_type\": \"\",\n        \"description\": \"\"\n      }\n    },\n    {\n      \"column\": \"Credit Card\",\n      \"properties\": {\n        \"dtype\": \"number\",\n        \"std\": 4,\n        \"min\": 5,\n        \"max\": 31,\n        \"num_unique_values\": 26,\n        \"samples\": [\n          16,\n          22,\n          11\n        ],\n        \"semantic_type\": \"\",\n        \"description\": \"\"\n      }\n    },\n    {\n      \"column\": \"CC Exp Date\",\n      \"properties\": {\n        \"dtype\": \"number\",\n        \"std\": 4,\n        \"min\": 5,\n        \"max\": 31,\n        \"num_unique_values\": 26,\n        \"samples\": [\n          16,\n          22,\n          11\n        ],\n        \"semantic_type\": \"\",\n        \"description\": \"\"\n      }\n    },\n    {\n      \"column\": \"CC Security Code\",\n      \"properties\": {\n        \"dtype\": \"number\",\n        \"std\": 4,\n        \"min\": 5,\n        \"max\": 31,\n        \"num_unique_values\": 26,\n        \"samples\": [\n          16,\n          22,\n          11\n        ],\n        \"semantic_type\": \"\",\n        \"description\": \"\"\n      }\n    },\n    {\n      \"column\": \"CC Provider\",\n      \"properties\": {\n        \"dtype\": \"number\",\n        \"std\": 4,\n        \"min\": 5,\n        \"max\": 31,\n        \"num_unique_values\": 26,\n        \"samples\": [\n          16,\n          22,\n          11\n        ],\n        \"semantic_type\": \"\",\n        \"description\": \"\"\n      }\n    },\n    {\n      \"column\": \"Email\",\n      \"properties\": {\n        \"dtype\": \"number\",\n        \"std\": 4,\n        \"min\": 5,\n        \"max\": 31,\n        \"num_unique_values\": 26,\n        \"samples\": [\n          16,\n          22,\n          11\n        ],\n        \"semantic_type\": \"\",\n        \"description\": \"\"\n      }\n    },\n    {\n      \"column\": \"IP Address\",\n      \"properties\": {\n        \"dtype\": \"number\",\n        \"std\": 4,\n        \"min\": 5,\n        \"max\": 31,\n        \"num_unique_values\": 26,\n        \"samples\": [\n          16,\n          22,\n          11\n        ],\n        \"semantic_type\": \"\",\n        \"description\": \"\"\n      }\n    },\n    {\n      \"column\": \"Language\",\n      \"properties\": {\n        \"dtype\": \"number\",\n        \"std\": 4,\n        \"min\": 5,\n        \"max\": 31,\n        \"num_unique_values\": 26,\n        \"samples\": [\n          16,\n          22,\n          11\n        ],\n        \"semantic_type\": \"\",\n        \"description\": \"\"\n      }\n    },\n    {\n      \"column\": \"Purchase Price\",\n      \"properties\": {\n        \"dtype\": \"number\",\n        \"std\": 4,\n        \"min\": 5,\n        \"max\": 31,\n        \"num_unique_values\": 26,\n        \"samples\": [\n          16,\n          22,\n          11\n        ],\n        \"semantic_type\": \"\",\n        \"description\": \"\"\n      }\n    }\n  ]\n}"
            }
          },
          "metadata": {},
          "execution_count": 25
        }
      ]
    },
    {
      "cell_type": "code",
      "source": [
        "#10چندنفر صبح خرید کردن چند نفر شب\n",
        "print('Day buyers:',df[df['AM or PM'] == 'AM'].count()[1])\n",
        "print('Night buyers:',df[df['AM or PM'] == 'PM'].count()[1])"
      ],
      "metadata": {
        "colab": {
          "base_uri": "https://localhost:8080/"
        },
        "id": "cmsLYXaKJZbB",
        "outputId": "443e8592-6031-4f0b-eed5-d0c4b8fb6c13"
      },
      "execution_count": null,
      "outputs": [
        {
          "output_type": "stream",
          "name": "stdout",
          "text": [
            "Day buyers: 4932\n",
            "Night buyers: 5068\n"
          ]
        },
        {
          "output_type": "stream",
          "name": "stderr",
          "text": [
            "<ipython-input-29-3d62ced19baf>:2: FutureWarning: Series.__getitem__ treating keys as positions is deprecated. In a future version, integer keys will always be treated as labels (consistent with DataFrame behavior). To access a value by position, use `ser.iloc[pos]`\n",
            "  print('Day buyers:',df[df['AM or PM'] == 'AM'].count()[1])\n",
            "<ipython-input-29-3d62ced19baf>:3: FutureWarning: Series.__getitem__ treating keys as positions is deprecated. In a future version, integer keys will always be treated as labels (consistent with DataFrame behavior). To access a value by position, use `ser.iloc[pos]`\n",
            "  print('Night buyers:',df[df['AM or PM'] == 'PM'].count()[1])\n"
          ]
        }
      ]
    },
    {
      "cell_type": "code",
      "source": [
        "#11ایمیل فردی با این شماره کارت را به من بده(6011929061123406)\n",
        "df[df['Credit Card']==6011929061123406].Email"
      ],
      "metadata": {
        "colab": {
          "base_uri": "https://localhost:8080/",
          "height": 115
        },
        "id": "Kx3oc1yUKXfQ",
        "outputId": "b2479c8b-d4c4-4d8c-e051-6697c89fe8bd"
      },
      "execution_count": null,
      "outputs": [
        {
          "output_type": "execute_result",
          "data": {
            "text/plain": [
              "0    pdunlap@yahoo.com\n",
              "Name: Email, dtype: object"
            ],
            "text/html": [
              "<div>\n",
              "<style scoped>\n",
              "    .dataframe tbody tr th:only-of-type {\n",
              "        vertical-align: middle;\n",
              "    }\n",
              "\n",
              "    .dataframe tbody tr th {\n",
              "        vertical-align: top;\n",
              "    }\n",
              "\n",
              "    .dataframe thead th {\n",
              "        text-align: right;\n",
              "    }\n",
              "</style>\n",
              "<table border=\"1\" class=\"dataframe\">\n",
              "  <thead>\n",
              "    <tr style=\"text-align: right;\">\n",
              "      <th></th>\n",
              "      <th>Email</th>\n",
              "    </tr>\n",
              "  </thead>\n",
              "  <tbody>\n",
              "    <tr>\n",
              "      <th>0</th>\n",
              "      <td>pdunlap@yahoo.com</td>\n",
              "    </tr>\n",
              "  </tbody>\n",
              "</table>\n",
              "</div><br><label><b>dtype:</b> object</label>"
            ]
          },
          "metadata": {},
          "execution_count": 37
        }
      ]
    },
    {
      "cell_type": "code",
      "source": [
        "#12 چند نفر از مسترکارت و بالای 95 دلار خرید کردند\n",
        "sum(df[df['CC Provider']=='Mastercard']['Purchase Price'] > 95)"
      ],
      "metadata": {
        "colab": {
          "base_uri": "https://localhost:8080/"
        },
        "id": "SBXI13rqLZvl",
        "outputId": "4a636c50-6eeb-49e1-fb32-d26ec6f1ad92"
      },
      "execution_count": null,
      "outputs": [
        {
          "output_type": "execute_result",
          "data": {
            "text/plain": [
              "42"
            ]
          },
          "metadata": {},
          "execution_count": 136
        }
      ]
    },
    {
      "cell_type": "code",
      "source": [
        "#13فقط سال انقضا را به من نمایش دهد. ماه را حذف کند\n",
        "for item in df['CC Exp Date'].str.split('/').head(10):\n",
        "  print(item[1])"
      ],
      "metadata": {
        "colab": {
          "base_uri": "https://localhost:8080/"
        },
        "id": "P96fZx1sMAJ1",
        "outputId": "8c66e79f-77f8-4701-ce42-e3beea211781"
      },
      "execution_count": null,
      "outputs": [
        {
          "output_type": "stream",
          "name": "stdout",
          "text": [
            "20\n",
            "18\n",
            "19\n",
            "24\n",
            "25\n",
            "25\n",
            "24\n",
            "25\n",
            "24\n",
            "17\n"
          ]
        }
      ]
    },
    {
      "cell_type": "code",
      "source": [
        "#14چند تا کارت سال 2025 منقضی میشود\n",
        "def is25(title):\n",
        "  if '25' in title:\n",
        "    return True\n",
        "  else:\n",
        "    return False\n",
        "sum(df['CC Exp Date'].apply(lambda x: is25(x)))"
      ],
      "metadata": {
        "colab": {
          "base_uri": "https://localhost:8080/"
        },
        "id": "kPkatI9ZQcWZ",
        "outputId": "9d94ccba-1749-47f4-edff-583903677bfe"
      },
      "execution_count": null,
      "outputs": [
        {
          "output_type": "execute_result",
          "data": {
            "text/plain": [
              "1033"
            ]
          },
          "metadata": {},
          "execution_count": 135
        }
      ]
    },
    {
      "cell_type": "code",
      "source": [
        "#15بیشترین خریدها از چه ایمیل هایی بوده استمثلا جیمیل یا یاهو.\n",
        "lstEmail = set()\n",
        "for email in df['Email']:\n",
        "  lstEmail.add(email.split('@')[1])\n",
        "print(lstEmail)\n",
        "\n",
        "df[df['Purchase Price']]"
      ],
      "metadata": {
        "colab": {
          "base_uri": "https://localhost:8080/"
        },
        "id": "9ufpp-9bTkMs",
        "outputId": "9d09d92b-2a0a-4c21-93b0-057af3518e2b"
      },
      "execution_count": null,
      "outputs": [
        {
          "output_type": "stream",
          "name": "stdout",
          "text": [
            "{'maxwell.biz', 'castro-padilla.com', 'byrd.com', 'zavala-glenn.com', 'elliott.net', 'wright-jones.biz', 'guerrero-huynh.com', 'joyce.net', 'stanley.com', 'grimes.com', 'smith.com', 'king-blanchard.com', 'buchanan-robinson.net', 'nguyen-snow.com', 'vargas-brown.com', 'rich.com', 'stevens.com', 'mcmahon-reilly.com', 'hill-powell.net', 'gardner-meadows.com', 'green-nunez.com', 'carpenter.org', 'larson.info', 'chan.info', 'herrera-garrett.com', 'wilkerson-martinez.com', 'martinez-brooks.org', 'west-thomas.info', 'hunt-gonzalez.info', 'holmes.com', 'carey-gillespie.biz', 'johnson-brown.net', 'gregory-mills.com', 'potter.biz', 'brown.com', 'deleon.com', 'trevino.net', 'henderson.com', 'mcintyre.info', 'watts.biz', 'williams-fernandez.com', 'rowe.net', 'marquez-salazar.com', 'lawson.com', 'tran-mccoy.org', 'hall.net', 'francis.info', 'rogers.net', 'perry-shah.com', 'douglas.net', 'lawrence-warren.biz', 'lopez-taylor.org', 'walters.net', 'stewart-alvarez.com', 'harris-young.com', 'bowers-morrison.com', 'cortez.com', 'ortiz.info', 'klein.info', 'wu.com', 'ewing.com', 'schmidt-simpson.com', 'coleman.org', 'ingram.com', 'rodriguez-avila.com', 'lopez-peterson.net', 'petty-rodriguez.com', 'cook-coleman.info', 'vargas-trujillo.com', 'arnold-bell.org', 'burton.com', 'perry.org', 'burgess-fleming.com', 'shaw-hunt.com', 'hayes.biz', 'mcdonald-webster.biz', 'cooley-hatfield.com', 'wilcox.com', 'sherman.com', 'roy.net', 'hernandez-nielsen.com', 'smith-nunez.info', 'bond-fields.info', 'chavez-park.com', 'yoder.com', 'anderson-rodriguez.org', 'campbell-berry.net', 'evans.org', 'buckley-ruiz.com', 'brown-caldwell.com', 'norton-gonzalez.com', 'cline.com', 'miller-ochoa.com', 'wilkins-cole.com', 'soto-ramirez.com', 'white-raymond.net', 'manning-espinoza.com', 'benjamin.com', 'myers-smith.info', 'phillips-johnson.org', 'morris-avila.com', 'aguirre.com', 'wright-scott.com', 'weaver-foster.net', 'torres-stewart.info', 'crane.org', 'pace.net', 'roberts.com', 'hunt.biz', 'ward-morrison.net', 'stein-hayes.com', 'watkins.com', 'sanchez.com', 'mccoy-mckay.info', 'brown-williams.net', 'cohen.org', 'trevino.org', 'lee-moore.com', 'stein-cox.com', 'holmes-andrews.info', 'allen.org', 'mendoza.com', 'lynch-hopkins.com', 'martin-rice.net', 'petersen.net', 'yates-duffy.net', 'tran.com', 'alvarez-frey.com', 'lucas-smith.com', 'potter.com', 'porter-simon.info', 'clark-simpson.com', 'vargas.org', 'hubbard.info', 'suarez.biz', 'lane.biz', 'white-wolfe.biz', 'johnson-waters.com', 'delgado-stewart.info', 'christensen-cummings.com', 'powell.com', 'nelson-alvarado.com', 'marsh.info', 'barber.com', 'charles-wells.com', 'mendoza-flowers.info', 'wood.biz', 'hess-mccormick.com', 'burton-cooley.com', 'walls.com', 'sanchez-smith.com', 'roach.com', 'hoffman-taylor.com', 'lloyd-edwards.com', 'wang-ramos.com', 'craig.org', 'chavez-stephens.com', 'ford-simmons.net', 'decker-murray.biz', 'cohen-bender.biz', 'murphy-martin.info', 'black.org', 'anderson-reynolds.biz', 'benson-cohen.org', 'clark.com', 'mills-bond.net', 'hall-weaver.com', 'hall-ochoa.com', 'moses.com', 'martin-phillips.com', 'castro.com', 'grimes-cruz.org', 'martin-davis.com', 'keller-park.com', 'ruiz.com', 'martinez-thomas.com', 'smith-smith.com', 'carpenter.biz', 'wright-martinez.com', 'pratt.biz', 'wood-le.org', 'mathews-bryan.com', 'peck-ashley.com', 'webster.net', 'white.org', 'lee.net', 'castillo-williams.com', 'murphy-berry.com', 'perez-bailey.com', 'glenn.info', 'arias-moore.biz', 'oconnell.com', 'shea-reid.com', 'roberts.net', 'gonzalez-foster.com', 'day-watkins.org', 'shepherd.biz', 'boyd-williams.com', 'anderson.com', 'porter.com', 'douglas-miles.com', 'martin-white.com', 'johnson-frazier.com', 'brooks.org', 'jackson-hernandez.biz', 'melton.org', 'lopez.com', 'smith-johnson.com', 'perez-herman.org', 'serrano.net', 'reed-carter.com', 'simmons-gutierrez.org', 'castro.biz', 'brown-bean.com', 'clarke.org', 'hoover.com', 'petty.org', 'jones-hensley.com', 'grant-simmons.com', 'spence-browning.com', 'ewing-jackson.net', 'freeman.com', 'fuentes.com', 'henderson.org', 'knight-johnson.com', 'cook.com', 'lewis-miller.info', 'adams-peck.info', 'wade-butler.org', 'richardson-hanson.com', 'vance-prince.com', 'graves-hunter.com', 'coleman-williams.net', 'williams-hayes.com', 'robertson.net', 'oliver.com', 'marsh-rosales.com', 'bond-brown.biz', 'bray.com', 'cruz.biz', 'perkins.info', 'matthews-nelson.net', 'washington-pena.org', 'blair.com', 'powell-blanchard.com', 'caldwell.net', 'murphy-knight.com', 'moreno.info', 'lopez-williamson.net', 'leonard-johnson.com', 'callahan.com', 'sanford-meadows.com', 'ortiz.com', 'velasquez.net', 'wilcox.net', 'martinez-mendoza.com', 'vasquez.net', 'jackson-anderson.com', 'terrell.biz', 'sosa.com', 'torres.com', 'chapman.com', 'livingston-smith.biz', 'chambers.com', 'morton.com', 'jones-robinson.com', 'stein-dodson.info', 'cobb.com', 'brown-burns.org', 'love-pena.com', 'gill-molina.com', 'ferrell.info', 'andrews.com', 'mccarthy.com', 'howard.org', 'smith-harrison.com', 'patton-golden.com', 'tyler.info', 'smith-brooks.com', 'curry.com', 'smith-mitchell.com', 'wallace-downs.com', 'hicks-kim.net', 'brown-nelson.com', 'norton-wallace.com', 'young.info', 'griffin-rogers.biz', 'lowe-stephens.com', 'flynn.info', 'beard.net', 'butler-harris.com', 'lambert.org', 'roberts-cooper.biz', 'craig.com', 'rush.com', 'burke-gray.net', 'castillo.com', 'hall-glenn.com', 'merritt.info', 'mosley-dominguez.net', 'zimmerman-clark.com', 'herrera-miller.biz', 'price-price.com', 'morris-martin.com', 'kramer.com', 'choi-morris.com', 'oconnor.info', 'wolfe.com', 'schmidt.info', 'ellis.org', 'walker-pacheco.biz', 'bishop.org', 'pena-jackson.net', 'ball-lopez.biz', 'mason.biz', 'donovan-brown.biz', 'andrade.com', 'kelley.com', 'duarte.net', 'brown-frye.org', 'hernandez-finley.net', 'patterson.com', 'phelps.com', 'deleon-ortega.org', 'rodriguez-hernandez.com', 'garcia.net', 'bush.org', 'bauer-turner.com', 'barnes.com', 'howell-johnson.com', 'anderson-carson.net', 'sexton-lee.com', 'estes-fisher.org', 'ritter.org', 'dennis.biz', 'dunn-edwards.com', 'rodriguez.org', 'deleon-ayala.biz', 'payne.info', 'ho.info', 'fisher.com', 'griffith.com', 'spence-santos.net', 'williams-mahoney.com', 'brooks-phillips.com', 'payne-morris.com', 'frank.com', 'green-matthews.com', 'dominguez.info', 'jones-rogers.com', 'pierce-douglas.com', 'moody.com', 'campos.com', 'davies.net', 'summers-boyd.com', 'spencer-shah.com', 'smith-waters.info', 'zuniga-jackson.com', 'shelton-robinson.com', 'howard.net', 'morris-jones.biz', 'riley-martin.com', 'richmond-warner.com', 'johnson.biz', 'wallace-ingram.com', 'wilcox-parker.org', 'stanton.com', 'barrera.org', 'nguyen.org', 'cunningham.info', 'mullins-fletcher.com', 'moore.org', 'mccullough.com', 'hancock.org', 'meza-jackson.org', 'mayer.net', 'holt.net', 'conner.info', 'roberson-jenkins.info', 'drake-alexander.com', 'sandoval-scott.org', 'morales.biz', 'arnold.biz', 'dalton.com', 'espinoza.org', 'parker.net', 'warren.com', 'le.org', 'palmer.biz', 'robbins.org', 'taylor-moore.net', 'daniels-williams.biz', 'orr-frank.com', 'williams-levy.com', 'giles.info', 'cox.com', 'davis-lewis.com', 'white.com', 'wilson-aguilar.com', 'jacobs.com', 'jackson-smith.com', 'mccall.biz', 'velazquez.com', 'graves.info', 'weeks.com', 'bryant-washington.net', 'mcmahon-wilson.com', 'hines.com', 'molina.org', 'fernandez.biz', 'davis.net', 'weber.com', 'clay.com', 'hicks-james.com', 'jones-combs.com', 'austin.com', 'mccoy.org', 'gallagher-douglas.com', 'hill-walton.org', 'harris.net', 'lamb.net', 'luna-hancock.info', 'bennett-smith.com', 'chung.com', 'mayo.com', 'kent-brown.info', 'washington.org', 'harris.info', 'little-branch.info', 'weiss-parrish.net', 'bird.com', 'smith-williams.com', 'martin-mcintyre.com', 'davis-jones.com', 'burns.com', 'daniels.info', 'robertson.com', 'bryan.biz', 'hobbs.com', 'hurst-howard.com', 'rocha.net', 'merritt.net', 'jones-rodriguez.net', 'christensen-stewart.com', 'collins.info', 'martin-chavez.com', 'hopkins.biz', 'barnett-smith.com', 'wallace-roberts.info', 'dixon-hoover.biz', 'montgomery.com', 'johnson-gonzalez.com', 'hunter-norton.org', 'mills.com', 'ferguson.com', 'wilkins.info', 'smith-collins.biz', 'richards-wong.biz', 'valencia.net', 'michael-harvey.net', 'williamson.org', 'miller-mack.com', 'taylor-garza.com', 'torres.net', 'patterson-lawson.org', 'walker.biz', 'blair-burton.net', 'coleman-thompson.com', 'fisher.biz', 'johnson.org', 'long-todd.com', 'pham.com', 'holt.com', 'rowland-kaufman.com', 'marshall.biz', 'may-harper.com', 'hodges.com', 'simmons-rasmussen.com', 'brock.info', 'terrell-wolfe.biz', 'monroe.com', 'blackburn.org', 'moore-bell.net', 'peterson.org', 'campbell-maldonado.com', 'martinez-young.org', 'gould.com', 'gallagher-martin.net', 'stevens-hart.biz', 'king.com', 'sanders-castillo.com', 'boyd-jones.biz', 'martin-diaz.com', 'phillips-hernandez.org', 'franklin.com', 'mills-oliver.com', 'wood-soto.com', 'lang.com', 'nielsen.com', 'gould-petty.com', 'hernandez.net', 'wu.net', 'simon-dean.com', 'hendrix.biz', 'schaefer.info', 'davis-stevens.com', 'diaz-elliott.com', 'barnes-cain.com', 'joyce.com', 'sutton.org', 'thomas-horton.com', 'bryan-smith.com', 'smith-martinez.net', 'powers-evans.org', 'webster.info', 'hughes-lynch.info', 'hall.org', 'vang.net', 'saunders.org', 'bryan.com', 'hamilton-herman.org', 'rodriguez-welch.com', 'nash-lewis.biz', 'woodward.info', 'cuevas-morales.info', 'martin.net', 'collier.net', 'martinez-bass.com', 'rodriguez-roberts.biz', 'harper.org', 'baldwin-park.com', 'frazier-zimmerman.net', 'sheppard-white.com', 'west.com', 'newman-bell.com', 'banks-moore.com', 'johnson-blanchard.com', 'keller-montgomery.com', 'rojas.com', 'mitchell.com', 'randall.com', 'rogers.org', 'fox.net', 'garrett.net', 'cunningham-ramos.com', 'smith.info', 'garcia-martinez.com', 'bradshaw-hernandez.com', 'pena-wong.com', 'luna.org', 'hoover.net', 'ochoa-williams.info', 'floyd-nelson.com', 'ellis-gonzalez.com', 'gonzales.biz', 'paul.com', 'dean-hendricks.com', 'watson.biz', 'gutierrez-abbott.com', 'roberts-rodriguez.com', 'hicks.org', 'butler-evans.com', 'simpson.biz', 'haynes-pollard.info', 'holt-garcia.net', 'bridges.info', 'fields-johnson.com', 'luna-romero.com', 'huerta.org', 'velez-kennedy.com', 'warren-horne.org', 'mueller.com', 'bryant.com', 'vincent.net', 'smith-harrell.com', 'miller-webb.com', 'lynch-huber.org', 'durham-white.com', 'jones.com', 'leon.com', 'ray.com', 'perkins-santiago.com', 'jones-heath.biz', 'hansen.info', 'green-morrison.com', 'jones-irwin.com', 'bailey.net', 'kelley-galloway.com', 'hernandez.biz', 'anderson-thompson.com', 'pugh.com', 'nguyen-wright.info', 'fitzgerald.info', 'oconnor-edwards.com', 'mejia.net', 'baird-armstrong.com', 'curtis-evans.com', 'perez-trujillo.biz', 'brown-wilson.net', 'mcclain.info', 'robbins.com', 'savage.com', 'taylor.biz', 'conley-ward.com', 'bush.com', 'morgan.com', 'vargas.com', 'white-case.com', 'moss.org', 'adams-taylor.com', 'medina-alexander.info', 'smith-ward.org', 'fischer-harrison.com', 'salas.biz', 'collins-johnson.biz', 'gutierrez.biz', 'taylor-miller.com', 'martinez-shepherd.com', 'kerr.org', 'diaz-davis.com', 'gonzalez.org', 'thomas.com', 'banks.info', 'flynn-williams.com', 'chen-cantu.net', 'merritt-morton.biz', 'smith-hall.com', 'wilson-weaver.com', 'braun.com', 'lowe-baxter.com', 'aguilar-nelson.com', 'harvey.net', 'ingram-kelly.com', 'edwards.com', 'gregory.net', 'fitzgerald-graham.org', 'ochoa.com', 'jones-wheeler.com', 'brown.info', 'mccann.com', 'green.biz', 'johnson-bennett.biz', 'knight.com', 'moran-barton.com', 'garrett-crawford.net', 'spencer.biz', 'sanchez-chambers.net', 'mora-roberts.info', 'porter.net', 'mejia-andrews.biz', 'winters.info', 'chapman-mcintyre.com', 'jordan.com', 'parks.com', 'brown-flynn.com', 'sanders-romero.com', 'strickland.com', 'warner.org', 'hawkins-smith.biz', 'jenkins.net', 'tucker-wilson.org', 'cohen-cordova.com', 'newman.net', 'collins-wilson.org', 'larson.net', 'johnston-wilson.org', 'hess-mcgee.com', 'armstrong.org', 'graham.com', 'steele.net', 'hoover.info', 'oneal-guerra.com', 'dawson.com', 'kaiser.net', 'liu-bryan.com', 'long-johnson.info', 'walton.com', 'nelson-hardin.com', 'hall-chapman.info', 'benitez.org', 'franco.biz', 'pierce-johnston.com', 'jimenez.com', 'dawson.biz', 'sanders.org', 'wheeler.org', 'stokes-phelps.com', 'cohen-barnett.com', 'brewer-singh.biz', 'meyer-palmer.org', 'gill-flores.com', 'chang-carpenter.net', 'johnson.info', 'diaz-ross.com', 'morris-holloway.org', 'english.com', 'collins-mccullough.com', 'orozco-martinez.com', 'hopkins.info', 'valenzuela.info', 'romero.com', 'rice-alvarado.biz', 'howard-hunter.com', 'byrd-simpson.com', 'nichols-willis.com', 'gilbert.info', 'fernandez-nelson.com', 'mckinney.net', 'brown-willis.org', 'gray.com', 'chandler.com', 'beck.org', 'todd.net', 'hayes-anderson.com', 'kline-anthony.info', 'ross-garrett.info', 'rodriguez.biz', 'shepard.com', 'kramer-jones.com', 'caldwell-strickland.com', 'ward.com', 'hale.info', 'kennedy-rosales.com', 'klein.net', 'bowers-williams.biz', 'reynolds.com', 'dixon.biz', 'evans.biz', 'miller-curtis.biz', 'garcia-pugh.biz', 'oneal-blackwell.info', 'doyle.biz', 'miller.org', 'elliott.com', 'rocha.com', 'faulkner.org', 'webb.net', 'webb-daniels.com', 'dickerson.com', 'washington-williams.com', 'floyd-miller.net', 'torres-clay.com', 'fernandez-parker.com', 'garcia-perez.com', 'mills-baker.com', 'morrow.net', 'jones-hill.info', 'williams-shah.biz', 'booth.com', 'munoz-fowler.com', 'norris-miller.com', 'buchanan-anderson.com', 'simon-flores.com', 'wilkinson.com', 'franco-arnold.net', 'oconnor-miller.com', 'ortega.com', 'park.info', 'graham-gutierrez.biz', 'davis-cruz.com', 'crosby-arroyo.com', 'herrera.biz', 'swanson.com', 'bowen-wheeler.com', 'francis-james.biz', 'irwin.com', 'craig-freeman.com', 'ortega-smith.info', 'larson.com', 'quinn-brown.com', 'dixon-evans.info', 'nelson-snyder.com', 'hughes.com', 'price-ortiz.com', 'chen.com', 'estrada.com', 'young.biz', 'woods-nunez.biz', 'ingram-pennington.com', 'brooks.biz', 'potts-rose.net', 'garrett.org', 'welch.com', 'berry-mendez.com', 'andrews-simpson.biz', 'cameron.com', 'braun.biz', 'schneider-evans.info', 'wilson-brown.com', 'mills-sutton.com', 'cox-cole.com', 'sutton.com', 'novak.org', 'ryan.com', 'floyd-lopez.biz', 'doyle-wells.com', 'clark.net', 'townsend.org', 'johnson-grant.net', 'walter.info', 'mccoy.biz', 'wheeler-parks.net', 'chaney.com', 'le.com', 'snyder.org', 'dean-cruz.com', 'miller-burgess.net', 'lewis.net', 'beasley.info', 'day.com', 'kelly.info', 'anderson-herrera.biz', 'jackson.net', 'hester.com', 'colon-craig.com', 'james.org', 'graham.org', 'yates.com', 'barker.com', 'lopez.net', 'banks.net', 'kirk-marquez.com', 'buck.com', 'cuevas-porter.com', 'ferrell.com', 'goodwin.com', 'yahoo.com', 'huang-scott.net', 'steele-pierce.info', 'austin-aguilar.org', 'hawkins-ford.org', 'miller-bond.com', 'alexander-smith.info', 'cervantes-williams.com', 'anderson-nelson.net', 'dixon.info', 'burgess-sharp.com', 'novak.biz', 'callahan-robinson.com', 'martin-wright.info', 'valenzuela.org', 'collins.com', 'price.com', 'wilson.biz', 'ford.com', 'harrison-murillo.info', 'barton.com', 'beck-hickman.com', 'tanner.com', 'burgess-brown.biz', 'jones-white.biz', 'reid.com', 'mcclure.com', 'norris.com', 'herrera.info', 'payne.net', 'campos-wyatt.com', 'brown-carter.net', 'chavez.com', 'wise-gaines.com', 'west-roman.org', 'hall-stephens.net', 'mcdaniel.com', 'boyer.com', 'wang.com', 'miller-hampton.com', 'phillips-martinez.com', 'jones-thompson.com', 'hanna.com', 'alexander.com', 'hahn-roberts.com', 'stephens.com', 'schmitt.com', 'green-lee.com', 'olson.com', 'orr.org', 'salazar-wade.com', 'morris-roberts.info', 'harris-ochoa.com', 'santana.com', 'george.org', 'cardenas-osborne.biz', 'rivers.com', 'montgomery.info', 'bauer-garrett.net', 'bartlett-lynn.com', 'shah-johnson.com', 'keller.com', 'anderson-li.com', 'russell.com', 'conley-smith.com', 'obrien.org', 'wiley.net', 'aguilar.biz', 'martinez-malone.com', 'guerra.com', 'mosley.com', 'burns-lawrence.net', 'jackson-cook.com', 'randolph.com', 'burns.org', 'cole-hill.com', 'friedman.biz', 'hammond-welch.org', 'mcdowell.net', 'mason.net', 'gomez.com', 'reilly.com', 'hartman-campos.com', 'yu-miranda.org', 'rodgers-mendez.com', 'jones-hicks.com', 'patrick.biz', 'clark-garcia.org', 'valenzuela.com', 'ramos-martin.com', 'garcia.org', 'king.biz', 'bailey.org', 'myers.com', 'curtis-holland.com', 'lopez-mueller.com', 'green.com', 'decker.info', 'stuart.com', 'miranda.com', 'bridges-nguyen.com', 'zhang.com', 'vance.com', 'sullivan-harrell.net', 'todd.info', 'white-baxter.com', 'lee.com', 'fischer.com', 'foley-henderson.org', 'payne.com', 'guerrero.info', 'robinson.com', 'knight.biz', 'arroyo.net', 'marshall.org', 'flores-flowers.com', 'conley.com', 'webster-rivera.com', 'bonilla.info', 'campbell-dominguez.com', 'woods-harrington.biz', 'peters-green.com', 'kelly.biz', 'levy-tapia.biz', 'dunn-flowers.com', 'valdez.com', 'flowers.com', 'murphy.org', 'cooper-lewis.com', 'wade-chang.com', 'krause.info', 'jackson-johnson.com', 'wright-walton.com', 'ross-white.com', 'duarte.com', 'lane.net', 'russell.org', 'bennett-ball.info', 'fritz-garcia.com', 'wolf.com', 'arnold.com', 'burgess.info', 'kelley-lyons.com', 'sanchez-cook.com', 'cole.biz', 'pruitt.info', 'hahn.info', 'garcia-white.com', 'olson-robinson.info', 'scott-collins.info', 'zavala.com', 'ortega-saunders.biz', 'frederick.com', 'murray-suarez.com', 'cooper.info', 'wu-livingston.com', 'perkins.net', 'tucker-keller.info', 'cortez-oconnor.com', 'johnson-long.biz', 'snyder.com', 'lawson-ramsey.com', 'forbes.com', 'jones-ferguson.com', 'dennis.org', 'cunningham-hammond.com', 'james-blake.biz', 'lambert.com', 'fowler.com', 'young-thompson.info', 'frost.com', 'levy-davis.com', 'guzman.com', 'rodriguez-sanchez.com', 'mcpherson.com', 'chandler-farley.com', 'perry-pittman.com', 'duncan-sparks.org', 'moore-robinson.com', 'yang.net', 'aguilar.info', 'vasquez.com', 'castillo.net', 'brown-frederick.com', 'smith-barber.com', 'palmer-henry.com', 'cowan-taylor.org', 'snyder-ashley.biz', 'clark-morales.info', 'gilbert.com', 'bennett.info', 'ballard-cook.com', 'jensen.info', 'rose.com', 'davis-gutierrez.com', 'kim.info', 'beard-franco.com', 'perry-berg.com', 'delgado.info', 'collier.org', 'browning-yu.com', 'harris.com', 'smith-lamb.com', 'bird-cook.info', 'collins-cole.info', 'garrison-woodard.com', 'diaz.org', 'richard.com', 'spears-robinson.com', 'lee-cameron.com', 'austin.biz', 'nunez-acosta.org', 'osborne.info', 'byrd-williams.net', 'ramirez-johnson.org', 'baker.info', 'hernandez-thomas.com', 'cobb-bell.info', 'mendez-doyle.com', 'bean.biz', 'johns.com', 'hall-mack.com', 'ortiz-chase.com', 'robinson-sanchez.com', 'stephens-ruiz.biz', 'douglas-richardson.com', 'shields-wallace.com', 'roberts-thomas.com', 'cruz.info', 'brennan.com', 'ryan.biz', 'gardner-chandler.com', 'willis.com', 'liu.com', 'reed.org', 'jones-morgan.org', 'ortiz-warner.com', 'holt.org', 'howell-lewis.info', 'ballard.com', 'johnson-white.biz', 'hopkins.com', 'giles.com', 'fox.com', 'wood.info', 'sanford.com', 'dixon-mcdonald.com', 'mitchell.biz', 'koch-lopez.com', 'craig-nichols.com', 'whitehead-morales.com', 'waters.info', 'howard-rodriguez.com', 'esparza.com', 'richardson-palmer.com', 'payne.org', 'taylor-sullivan.info', 'crawford.com', 'hall.com', 'simmons.info', 'bonilla.biz', 'jackson-coleman.com', 'golden.biz', 'brown-west.com', 'hernandez.com', 'prince-barber.biz', 'harrison-baker.com', 'foster.net', 'fry.info', 'cervantes.com', 'smith-allen.org', 'lewis-guzman.org', 'torres-murray.com', 'harris-hudson.com', 'juarez.biz', 'lowe-porter.info', 'jackson-nelson.com', 'ryan.info', 'peterson.com', 'bowers.com', 'stephenson.com', 'ramirez-gonzales.biz', 'french-richards.com', 'bowman.com', 'bryant-jones.com', 'church.net', 'reed-johnston.com', 'combs-taylor.com', 'lara.biz', 'freeman-evans.info', 'baird.com', 'guzman-russo.org', 'guerrero-wilkerson.com', 'knapp.com', 'short-watkins.com', 'delacruz.net', 'aguilar.com', 'parks.net', 'mccoy.com', 'davis-mcdonald.com', 'white.net', 'thornton-powell.info', 'nelson.com', 'olson.net', 'phelps-barron.biz', 'hernandez-martinez.com', 'buchanan-brown.com', 'malone.com', 'guerrero-wells.net', 'dorsey.org', 'russo.com', 'brown-castillo.info', 'trevino-lawson.info', 'thomas.net', 'mclaughlin.org', 'dyer-nguyen.com', 'ray-smith.net', 'reyes.net', 'thomas-george.com', 'bonilla.org', 'pittman-lopez.biz', 'griffin.com', 'harmon-rodriguez.com', 'baker.org', 'reeves-cole.biz', 'henry.org', 'walter.com', 'mendoza-leonard.com', 'ellis-hines.org', 'smith-moore.org', 'brown-johnson.com', 'washington-lee.net', 'fletcher.info', 'chang.com', 'wright-richard.com', 'young.com', 'grimes-gross.com', 'kim.biz', 'spencer.info', 'moore.net', 'warren.info', 'downs-fletcher.com', 'mann-patel.biz', 'coffey.com', 'figueroa-arnold.com', 'koch.com', 'wallace-wise.info', 'barry.com', 'weaver.com', 'calderon-williams.com', 'vaughan.com', 'bean-mcdaniel.com', 'summers.com', 'wells-carlson.info', 'lutz-gomez.com', 'garrett-adams.com', 'leach-brown.com', 'phelps.org', 'wallace.com', 'cummings.net', 'huynh-stanton.info', 'simmons-gilbert.com', 'knapp-snyder.biz', 'smith-miller.org', 'sparks.com', 'douglas-cooper.com', 'welch-anderson.com', 'carroll-hensley.net', 'garner.net', 'cruz-sanford.biz', 'stanton.info', 'frey-ward.com', 'ramos-davis.com', 'wilson-page.com', 'phillips-gray.com', 'miller-luna.com', 'robinson.org', 'barton.info', 'coleman-ramos.info', 'coleman.biz', 'poole-everett.com', 'lucas.biz', 'young-neal.com', 'scott.biz', 'lane-reed.com', 'carr.info', 'gordon.com', 'saunders-mahoney.info', 'olson-henderson.org', 'stewart.biz', 'mitchell-wu.com', 'rodriguez.info', 'wilson.com', 'montgomery-miller.org', 'robertson.info', 'ward.biz', 'berry-james.com', 'fleming.com', 'juarez.info', 'ramos.com', 'wiggins-glover.com', 'ferguson.biz', 'hurley.com', 'boone.com', 'scott-durham.net', 'douglas-davis.net', 'davenport-garcia.com', 'green.org', 'hill-garcia.info', 'gmail.com', 'green-martinez.com', 'torres-johnson.com', 'wilson-wright.biz', 'buckley.com', 'hamilton-thompson.org', 'brown-schmidt.biz', 'mullen.biz', 'taylor-newton.com', 'howell-reed.info', 'carey.org', 'steele-allison.com', 'porter-smith.info', 'james-stevenson.com', 'burke-perez.org', 'turner.org', 'carlson-smith.biz', 'crane.com', 'guzman-frank.net', 'miller.com', 'humphrey.biz', 'jennings.com', 'pena.biz', 'smith-reid.com', 'arnold.org', 'knight.net', 'elliott-watson.com', 'martinez-williams.net', 'martinez.org', 'jones-clark.com', 'jensen.net', 'barry.org', 'cox.org', 'howe.com', 'phillips.org', 'montgomery-osborne.biz', 'padilla.info', 'beasley-moore.net', 'mclaughlin.com', 'campbell-chang.com', 'stewart.org', 'fowler-smith.biz', 'gardner-anderson.com', 'holder.com', 'tucker.com', 'jones-white.com', 'waters.com', 'fuentes-grant.com', 'rogers.com', 'hart-rodriguez.com', 'gonzalez.net', 'parker-richard.info', 'noble-spencer.info', 'daniels.com', 'davidson.com', 'briggs.com', 'shaw-griffin.net', 'jackson-bauer.info', 'wilkins-campos.com', 'owens-marshall.com', 'rhodes.info', 'benitez.net', 'meadows.com', 'shannon-nelson.com', 'perry.com', 'lopez-webb.org', 'thomas-hodges.net', 'gutierrez.net', 'wilson-hart.org', 'taylor-robinson.net', 'rivera-perez.info', 'reed.com', 'archer.com', 'dominguez.com', 'schmidt.com', 'carr-young.com', 'andrade-williams.com', 'mcdonald-rocha.biz', 'logan.net', 'lee-hicks.net', 'sanchez-fisher.com', 'dunn-lara.com', 'cummings.info', 'castro.org', 'cobb-chandler.org', 'hutchinson-norman.com', 'burton.org', 'williams.org', 'sheppard.com', 'norris-cross.info', 'robinson-cortez.com', 'williams-garza.com', 'allen.com', 'mosley-watson.org', 'davis-rios.biz', 'thompson-allen.com', 'bradley.biz', 'martin.info', 'tran.info', 'proctor.com', 'douglas-mccarthy.net', 'morrison.biz', 'peterson-matthews.com', 'ramirez-diaz.com', 'wilson-garcia.info', 'mitchell-hill.com', 'bass.com', 'maddox-kelley.com', 'jones-calderon.net', 'white-stokes.com', 'kent.net', 'schmidt.biz', 'pineda.biz', 'avila-best.org', 'weiss-harrison.com', 'pace.com', 'taylor.com', 'phillips.info', 'brown-woods.com', 'grant.com', 'lin.com', 'dillon.info', 'white-howard.com', 'hansen.org', 'cummings-thomas.com', 'snow-fisher.biz', 'rodriguez-george.com', 'ward.net', 'snow.com', 'lawrence.biz', 'hoover-martin.com', 'clark-martinez.com', 'norton.info', 'kim-church.com', 'evans-logan.com', 'kirby-stewart.org', 'huang.net', 'boyle.com', 'donaldson.org', 'george-ramirez.com', 'garza.org', 'riley-smith.org', 'willis-perry.org', 'nelson-peters.info', 'dyer.com', 'frederick.info', 'woods-williams.org', 'baker-shelton.org', 'potts.com', 'lawrence.net', 'wilson.info', 'cruz.org', 'phillips.net', 'larson-murphy.com', 'young-jimenez.com', 'lewis-scott.com', 'howard.biz', 'dodson.com', 'hill-hood.com', 'bush-contreras.com', 'kelley-arnold.com', 'kennedy.org', 'reynolds-thompson.com', 'jordan.biz', 'smith-hartman.biz', 'hill.biz', 'rodriguez-jones.net', 'anderson.biz', 'rangel.net', 'mata.com', 'fletcher.com', 'carter-york.com', 'morrow-johnson.net', 'perry-sloan.net', 'richards.com', 'mcknight.com', 'davenport.com', 'guerrero-bradley.info', 'adams.net', 'michael.com', 'powell-fox.org', 'parks.info', 'fritz.com', 'morton.net', 'espinoza.com', 'vaughn.com', 'gould-hill.com', 'cox.net', 'mendez-macdonald.biz', 'jackson-richards.com', 'jordan-pierce.com', 'hall-gomez.com', 'mcintyre-brooks.info', 'ramsey.org', 'cox-newman.com', 'wong-richardson.com', 'willis-wilson.com', 'freeman.info', 'rodriguez-johnson.com', 'moore-moran.com', 'pruitt.com', 'beck.com', 'mckee-gaines.net', 'moore-atkins.com', 'king-kirby.net', 'brooks.net', 'marshall.com', 'madden.com', 'cunningham-campbell.net', 'sherman.info', 'ramirez.com', 'holden-stevens.com', 'white.biz', 'ramirez.net', 'jenkins.com', 'schmidt-martin.com', 'herring.info', 'martinez-davis.org', 'beard-smith.net', 'bradley.com', 'martin-stone.org', 'tyler.com', 'salinas-johnston.com', 'shaw.com', 'steele.com', 'rodriguez-matthews.info', 'morrison-sullivan.com', 'rowe.com', 'ramirez-hodge.info', 'johnson-collier.net', 'flores.info', 'jones-romero.net', 'allison-rice.com', 'riley-miller.com', 'nelson-hanna.info', 'larsen-jacobs.com', 'burgess.biz', 'garza-scott.com', 'mcneil-steele.com', 'montgomery.net', 'carter-williams.org', 'oneill.com', 'herman-wilson.biz', 'french.com', 'padilla.biz', 'sellers.net', 'gomez-roberts.com', 'bass-sullivan.info', 'thomas-little.com', 'kelley.biz', 'vega.com', 'castro.info', 'brown-garrison.com', 'shepard-davis.com', 'torres.biz', 'hill-stewart.com', 'parrish.net', 'wall.org', 'bell-frost.com', 'calderon-davis.net', 'simmons.org', 'fuller-johnson.com', 'todd.com', 'garcia-luna.net', 'watson.org', 'day-ballard.org', 'parker-woods.info', 'page.net', 'higgins.info', 'stein.com', 'johnson-dean.com', 'graves-fox.com', 'lynch.com', 'anthony.com', 'henry.com', 'santiago.info', 'scott-cardenas.org', 'preston.com', 'lane-hamilton.com', 'mosley-brown.com', 'evans-anderson.com', 'yates.net', 'key-carter.com', 'gray-harris.info', 'armstrong.biz', 'long.biz', 'sandoval.net', 'kerr.com', 'johnson-booth.com', 'maynard.info', 'oliver-stein.com', 'hunter-oconnell.net', 'jordan-webster.com', 'bailey-green.com', 'harding-alexander.net', 'frye.com', 'donaldson.com', 'taylor-woods.org', 'hernandez-dawson.biz', 'washington-goodman.com', 'duncan.net', 'flynn.com', 'king-allen.com', 'price.net', 'morse.net', 'sellers.com', 'wade.org', 'whitney.org', 'harrell.com', 'warren-chang.com', 'wilkins.com', 'lewis.com', 'sanders.biz', 'shepherd-rodriguez.com', 'white-myers.biz', 'williams.net', 'farmer-bates.org', 'barrett.biz', 'lee-phillips.com', 'wiley.com', 'sosa-brown.com', 'soto.com', 'watson-ramos.info', 'tyler-hicks.com', 'hayden.net', 'johnson-carter.com', 'andersen-powers.info', 'oconnor-dixon.com', 'suarez.net', 'ford.net', 'jenkins-jenkins.org', 'fox.org', 'klein.org', 'powell-sanford.com', 'crawford.info', 'bowen.biz', 'best.com', 'livingston.com', 'roberts-zavala.net', 'myers-garcia.com', 'walton.info', 'blackburn-lucero.com', 'yates.biz', 'dalton.net', 'barnes.org', 'le.net', 'meyers-powers.biz', 'olson.biz', 'lowe.net', 'ross.net', 'patel.com', 'brown.biz', 'henson.com', 'hurley.biz', 'ramirez.org', 'ramirez-garcia.info', 'nash-pearson.com', 'mckenzie-jones.com', 'vincent-perry.com', 'west.info', 'brooks.info', 'wright-neal.com', 'mayer.com', 'greene.org', 'murphy-williams.net', 'hill.org', 'robles-garza.org', 'perry-mcgee.com', 'porter-randolph.info', 'perez-ponce.info', 'burns.net', 'anthony-guerra.com', 'hunter-ortiz.info', 'warner-swanson.com', 'garza.com', 'johnson-huang.com', 'rogers-baker.net', 'smith-brown.com', 'mcdonald.org', 'todd-richard.com', 'carson-burke.com', 'smith-gordon.com', 'anderson-hunt.com', 'woods.com', 'hernandez.info', 'nelson.info', 'williams-williams.com', 'maddox-mann.info', 'krueger-walker.com', 'peterson-chavez.biz', 'chase.com', 'guzman.biz', 'hart-alvarez.com', 'lawrence-washington.biz', 'daniel.org', 'beasley.com', 'cantrell-taylor.com', 'gill.com', 'tanner-thomas.com', 'ramirez.info', 'mccarty.info', 'chaney.info', 'stephens.org', 'bowers.info', 'frank.org', 'shelton.com', 'mooney.com', 'moore-carter.net', 'davis-carter.com', 'myers-smith.com', 'meyers.com', 'mcgrath-potts.biz', 'poole.com', 'thornton.com', 'hicks.info', 'lambert.biz', 'orr-bowers.com', 'boyd-english.org', 'noble.com', 'hayes.com', 'carroll.org', 'wright-hopkins.com', 'murray.info', 'calhoun.biz', 'marshall-johnson.net', 'nolan-york.com', 'thompson-myers.com', 'day.net', 'greene.com', 'diaz-johnson.com', 'joseph.com', 'gonzales.info', 'moore.info', 'mitchell.net', 'hays.biz', 'torres-day.com', 'duke-ford.com', 'anderson.org', 'mccall.net', 'benitez.com', 'martinez.com', 'hart-andrade.com', 'figueroa.info', 'patterson-griffin.com', 'walker.com', 'foster.org', 'campbell.biz', 'morgan.org', 'horn.net', 'mcneil.com', 'keller-turner.org', 'thompson.biz', 'reyes.info', 'jimenez-hansen.org', 'torres-sharp.com', 'maynard-olson.com', 'orozco.com', 'peters-salazar.com', 'church.com', 'leblanc-price.info', 'ramos-boyd.org', 'nichols.org', 'lam.com', 'martinez-montoya.com', 'wheeler.info', 'wallace.org', 'park.com', 'thomas-warren.com', 'hughes.net', 'hays.com', 'wilkins.biz', 'huff.net', 'nixon-james.com', 'collier.com', 'johnson-taylor.org', 'peterson-watkins.org', 'daniel.net', 'thompson-watson.com', 'cardenas.com', 'todd.org', 'black-thompson.net', 'moore-walker.com', 'ramos-wilson.biz', 'hernandez-mitchell.com', 'fuentes.org', 'hampton-moore.com', 'newman.com', 'brown-carr.com', 'fitzgerald-hunter.biz', 'campbell-dennis.com', 'welch-walsh.com', 'fisher-burns.net', 'vega.net', 'scott.info', 'taylor-cardenas.biz', 'shah-hill.net', 'jordan-ortiz.com', 'rodgers.com', 'payne-noble.com', 'jones-terry.com', 'brown.net', 'acosta.com', 'townsend.com', 'brown.org', 'nguyen-evans.com', 'colon-hawkins.com', 'jimenez.net', 'davis.com', 'bass.net', 'richardson-adams.com', 'henry-waters.com', 'figueroa-peck.com', 'trujillo.com', 'miller-greene.com', 'edwards-francis.com', 'berry.com', 'ballard-myers.info', 'diaz-rodgers.net', 'soto-stewart.com', 'owen-gross.com', 'hicks.com', 'smith-conner.org', 'nguyen-wolfe.com', 'harrington.com', 'delacruz.com', 'martinez-adams.com', 'hudson-thomas.biz', 'ramirez.biz', 'castro-whitaker.net', 'taylor-anderson.net', 'burton-anderson.com', 'galloway.com', 'glenn.org', 'morales.org', 'nielsen-scott.net', 'mccarthy-baxter.info', 'warner-haley.com', 'hill.net', 'black.com', 'walton.org', 'smith-smith.net', 'decker.com', 'schaefer-martinez.com', 'hernandez-morales.biz', 'juarez-tucker.net', 'howell.net', 'little.com', 'perez.info', 'bonilla.com', 'contreras.com', 'bailey.biz', 'thompson-hogan.info', 'olson.info', 'ochoa.biz', 'wade.net', 'morrison-smith.com', 'carter-adams.biz', 'mcgee.com', 'huynh-wood.com', 'brady-black.info', 'underwood.info', 'wright-fisher.biz', 'moss-davis.com', 'cross.com', 'good.com', 'levine-mcpherson.info', 'estrada-wong.com', 'howard.com', 'hawkins-green.net', 'boyle-cooper.info', 'silva-kennedy.com', 'beasley-martinez.info', 'love-sanchez.net', 'thomas-walsh.com', 'kelly.net', 'quinn.info', 'finley-ruiz.net', 'erickson-russell.com', 'simmons.com', 'gillespie-acevedo.info', 'baker.com', 'schwartz.org', 'jenkins.info', 'phillips-taylor.com', 'scott-reynolds.org', 'bartlett.info', 'stephenson-myers.net', 'parker-stephenson.com', 'wolfe.org', 'campbell-reed.com', 'conner.com', 'garcia.info', 'welch-jones.org', 'banks.org', 'bryant-lawson.com', 'williams.info', 'santiago-brown.com', 'simpson.com', 'rodgers-cordova.net', 'sanford.net', 'moss.info', 'cook-matthews.com', 'bowen.com', 'mcdonald-woodward.com', 'simpson-roach.com', 'haynes-nguyen.com', 'mcclain-kelley.biz', 'schwartz.com', 'miller-tran.com', 'barker-cervantes.info', 'hamilton-mathews.com', 'wall.com', 'simmons-jackson.info', 'williamson-johnson.org', 'bradley-mendez.com', 'flowers-thomas.info', 'vincent-flynn.com', 'snyder.info', 'robinson-harding.com', 'larson-barrett.com', 'martinez-anderson.com', 'torres-bonilla.com', 'reilly.net', 'payne-evans.net', 'stout.org', 'sanders-wilson.com', 'cannon.com', 'marshall-casey.biz', 'dominguez-robinson.com', 'lynch-gonzalez.com', 'schwartz.info', 'gutierrez.org', 'rodriguez.com', 'kaufman.biz', 'wells.org', 'hart-weaver.com', 'burton.net', 'williams.biz', 'clayton-davidson.com', 'evans-davis.com', 'smith-turner.info', 'camacho.net', 'hudson.com', 'holland.info', 'bernard.com', 'clark-nguyen.com', 'mcdaniel.org', 'hart-scott.com', 'montes.org', 'gutierrez-casey.com', 'booker.com', 'wilson-watson.com', 'allen-miller.net', 'riggs.net', 'strong.com', 'kline.info', 'bolton-lynn.biz', 'mccormick-kirby.com', 'franco.com', 'singh.com', 'jackson.org', 'ramsey.com', 'flores.com', 'graham-herrera.info', 'williams-hayes.info', 'ball.com', 'murphy.info', 'rivera.biz', 'bauer.com', 'sullivan-keith.info', 'dickerson.info', 'gray-chan.com', 'atkinson.com', 'ho-palmer.com', 'hayes-stout.com', 'alvarado.com', 'flynn-callahan.com', 'martinez-bell.org', 'patton-maynard.com', 'james.com', 'brown-gray.com', 'hunt-davis.com', 'beltran.com', 'hess-holt.net', 'bates-david.net', 'khan.com', 'watts.net', 'mann.com', 'luna-reynolds.biz', 'dixon-stone.net', 'washington.info', 'ellison-fuller.com', 'wall-matthews.com', 'diaz-beck.com', 'roy.com', 'jacobs-williams.com', 'edwards-cooper.com', 'chen-flores.org', 'chambers-baker.biz', 'brown-kim.com', 'flores.biz', 'brady-moore.biz', 'mcbride.com', 'johnson.com', 'gonzales-anderson.com', 'parker.biz', 'best-green.com', 'lawrence.com', 'curtis.com', 'madden.org', 'marquez.com', 'hernandez-ware.com', 'bradshaw.com', 'gregory-allen.com', 'york-bird.com', 'ward-reid.info', 'thomas-russell.com', 'kemp.info', 'patton-carter.com', 'butler-parker.biz', 'taylor-powell.info', 'ali.com', 'sullivan.com', 'weber-williams.com', 'carpenter-bennett.com', 'reyes.com', 'barber-mccormick.com', 'reyes-jordan.net', 'hanson.com', 'boyle-jordan.info', 'morris-vargas.com', 'meyer.com', 'pennington-johnson.com', 'suarez.com', 'welch.biz', 'young.org', 'skinner.com', 'harmon-vega.net', 'conley.org', 'ruiz.org', 'wise-liu.com', 'armstrong-adkins.biz', 'wise-nash.net', 'mendez.info', 'sanders-townsend.com', 'james-harvey.com', 'washington-schneider.net', 'grant.biz', 'kemp-humphrey.com', 'boyd-lowe.com', 'davis-graham.org', 'trujillo.org', 'pierce.org', 'murray-graves.com', 'palmer.com', 'doyle.info', 'beck.biz', 'ross-perez.com', 'russell-campbell.net', 'beasley-murphy.net', 'harvey-hunt.com', 'allen.net', 'jones-williams.org', 'snyder-frederick.com', 'morrison.net', 'schmitt.biz', 'marquez-castillo.biz', 'french.biz', 'kelly.com', 'wade-daniels.com', 'leonard-steele.com', 'house.com', 'chapman-porter.com', 'johnson-keller.com', 'davenport-harris.com', 'hampton.info', 'clark-terry.com', 'hicks-warner.info', 'thomas-ramos.com', 'campbell.info', 'hines.net', 'york.com', 'benson.net', 'harper-smith.biz', 'murray-moss.com', 'mann-vazquez.com', 'chavez.biz', 'melton-duke.com', 'jackson-fry.com', 'herman.org', 'johnson-cole.com', 'wilkins-rich.net', 'yates-smith.com', 'richards.biz', 'sanchez-colon.com', 'ramirez-watson.org', 'stark.org', 'le.info', 'sims.com', 'short.biz', 'frey-howell.net', 'thomas.biz', 'woods-allen.biz', 'white-marsh.com', 'rosales.com', 'mann.info', 'ortega-burke.info', 'cantu.com', 'rivera-farley.com', 'roberts.biz', 'mcneil-johnson.com', 'sims-mejia.info', 'mays.com', 'cortez-allen.com', 'holmes-jones.com', 'randall-collier.info', 'ross.com', 'johnson-hall.com', 'cooper-martinez.com', 'mack.com', 'nguyen.biz', 'malone.biz', 'miller-adams.net', 'daugherty.com', 'robinson-fuller.net', 'massey.biz', 'powers-rodriguez.com', 'jackson.biz', 'hayes.info', 'wall-lopez.com', 'charles.com', 'moreno.com', 'maddox.com', 'hood.com', 'watson.com', 'garcia.com', 'rose.info', 'stephenson.info', 'mcdowell.com', 'butler-lozano.com', 'myers.biz', 'gould.org', 'richard-martinez.org', 'walker-mccormick.org', 'carter.org', 'schroeder-lawson.org', 'baxter.org', 'cruz.com', 'winters-summers.biz', 'hall.info', 'avila.biz', 'dougherty-powell.com', 'zhang.biz', 'cook.org', 'young-sellers.com', 'kennedy-martin.com', 'salazar-miller.com', 'kerr-wilson.com', 'miles-clark.com', 'bishop-nelson.info', 'scott-kaufman.com', 'collins.biz', 'bryant.net', 'johnson-moreno.com', 'haas.info', 'barton-tucker.com', 'wolf-gardner.org', 'kelley.org', 'jimenez.biz', 'hatfield.com', 'jennings.info', 'vargas.info', 'mcclure.biz', 'harris-cooper.com', 'turner.biz', 'morales.com', 'white-watkins.com', 'butler.biz', 'mcdonald-carter.com', 'matthews-nguyen.info', 'vasquez-luna.com', 'hill-sanders.com', 'stanley.biz', 'love.com', 'cook-castillo.com', 'wilson-spencer.info', 'maynard.com', 'avila.com', 'gonzalez-myers.com', 'boyd.com', 'chavez-watson.org', 'conway.net', 'pollard.com', 'campbell.net', 'chandler.info', 'jackson.com', 'norman.com', 'robinson.net', 'fuentes.biz', 'cervantes-smith.net', 'cain-banks.com', 'calhoun-garcia.com', 'avery-turner.com', 'butler.com', 'perkins.biz', 'barton-potts.com', 'webster.org', 'turner.com', 'kirby-vincent.com', 'gillespie.biz', 'page-schwartz.biz', 'weber.org', 'roach-alexander.com', 'vazquez.net', 'shannon.com', 'hart.com', 'norris.net', 'reese.com', 'jones-benson.com', 'mckinney-smith.com', 'fuller.biz', 'fernandez.com', 'wright.info', 'hess-brooks.com', 'lynn-shelton.com', 'green.net', 'fritz-gray.com', 'garcia.biz', 'brown-mckay.com', 'smith-guzman.info', 'foster.com', 'pope.info', 'acevedo-osborn.com', 'ayala.com', 'sherman.biz', 'delacruz.biz', 'smith.net', 'farley.biz', 'davis.biz', 'harris-reid.org', 'hill.com', 'stevenson-west.com', 'black-powell.com', 'ho.com', 'miles.com', 'harmon.info', 'howe.biz', 'stone.com', 'mcintosh-price.com', 'martinez-hale.com', 'finley.org', 'gutierrez-barber.com', 'taylor.org', 'mejia.biz', 'ware-odom.com', 'dixon.com', 'gross.com', 'tapia.com', 'medina-reyes.net', 'bennett.com', 'carlson.net', 'bailey-ponce.biz', 'rogers-craig.com', 'robles.com', 'nelson.net', 'guerrero-franco.com', 'burgess.com', 'jones-robinson.org', 'branch.com', 'carter-clark.com', 'bowman-franklin.com', 'fleming.info', 'palmer-mckee.com', 'wheeler.com', 'lyons-porter.info', 'thomas-peck.com', 'walter-scott.net', 'ford-perry.com', 'ramos-wood.com', 'hernandez-gomez.com', 'fernandez-bell.com', 'macdonald.com', 'gallagher-mcdaniel.biz', 'may-novak.org', 'foster-travis.biz', 'thomas.info', 'kane.com', 'russell.info', 'garrett.biz', 'baker-austin.biz', 'underwood.com', 'klein-fernandez.com', 'silva.com', 'ballard.biz', 'warren-campbell.com', 'zavala.org', 'mason-wilson.com', 'moore-lutz.com', 'potter-kane.info', 'monroe-valdez.org', 'mcmillan.net', 'barron-williams.net', 'santiago.org', 'hebert-rodriguez.com', 'gonzalez-gamble.org', 'camacho.com', 'ford.biz', 'vaughan-huff.com', 'harvey.com', 'freeman-smith.org', 'vasquez-riddle.com', 'garza-brown.com', 'drake-crosby.com', 'price.org', 'caldwell.com', 'swanson.info', 'butler-meza.com', 'smith.biz', 'rivera.net', 'white.info', 'robbins-hughes.com', 'rhodes.com', 'guerrero.net', 'collins.org', 'ferguson.net', 'orozco-nunez.com', 'merritt-york.com', 'allen.info', 'davis.org', 'mathews-smith.com', 'dixon-hayes.biz', 'walton-cain.com', 'mendez-davidson.com', 'molina.com', 'everett.com', 'henderson-graves.com', 'fernandez-dickson.com', 'vaughn-sullivan.biz', 'knox.com', 'cooper-blake.org', 'taylor-baker.biz', 'hall-harris.biz', 'nguyen-curtis.org', 'shah-woods.net', 'compton.org', 'taylor-bishop.com', 'hughes-humphrey.net', 'ramos-parker.com', 'green-rodgers.com', 'nelson-wright.com', 'evans.info', 'bullock-lopez.com', 'brown-kirk.com', 'valencia.com', 'alvarez-dixon.info', 'santiago.com', 'williams-smith.com', 'ryan-baker.com', 'howard-diaz.com', 'hunt-huerta.com', 'hess.com', 'townsend-howe.com', 'alvarez.info', 'mcclure.org', 'martinez.biz', 'ochoa.net', 'callahan.info', 'nguyen-sanchez.net', 'wood.com', 'shelton.org', 'thomas.org', 'khan-watson.com', 'hooper-simpson.net', 'mooney-townsend.biz', 'hernandez-summers.net', 'macias-jones.org', 'martinez.info', 'lewis-lloyd.com', 'rich.biz', 'christensen.info', 'randall-jacobson.info', 'harvey-yoder.com', 'rivas.com', 'sanders.info', 'floyd.info', 'alvarez.com', 'wheeler-hoffman.com', 'edwards-klein.com', 'gray-mejia.com', 'fisher-li.org', 'davis-rubio.info', 'christensen-gonzalez.biz', 'frazier.com', 'fox-lowe.com', 'bailey.com', 'wade-garner.com', 'mejia.com', 'casey.com', 'pineda-buchanan.com', 'cardenas.biz', 'gordon.biz', 'ferguson-ross.com', 'moody-raymond.net', 'farrell-francis.net', 'harrison-brown.info', 'alexander-villegas.com', 'barrett.info', 'gibson-dixon.com', 'jackson-johnson.biz', 'erickson.com', 'montoya-costa.com', 'atkins.com', 'wilson-hughes.com', 'reese-mcintosh.com', 'johnston-garcia.com', 'gutierrez.com', 'moreno-marshall.com', 'gonzales-garrett.com', 'perez-acosta.com', 'farmer.org', 'pruitt-peck.org', 'johnson-collins.com', 'craig-lawson.com', 'hill-cruz.net', 'wells.net', 'lara.org', 'george.com', 'stewart-morrison.com', 'mccann.net', 'bailey-branch.biz', 'berry.biz', 'finley.com', 'dalton.info', 'mccall.com', 'lewis.biz', 'mitchell-gutierrez.com', 'english.net', 'castaneda-evans.com', 'perez-green.info', 'jackson-williamson.com', 'leon-hanson.com', 'richardson.biz', 'thompson.com', 'may-costa.net', 'webster.com', 'kaiser-garcia.com', 'jenkins.biz', 'moran.info', 'holder.net', 'johnson-moore.com', 'underwood-jenkins.org', 'knapp.info', 'rivera-bishop.com', 'moran.com', 'villarreal-kane.com', 'lane.org', 'anderson.info', 'vincent.org', 'hart-schwartz.info', 'silva-cox.com', 'hooper.com', 'richards-wilson.com', 'massey.net', 'brown-phillips.com', 'arnold.info', 'myers.info', 'peters.com', 'hamilton.biz', 'howard-cook.org', 'miller.biz', 'pope.com', 'higgins.net', 'wang-mejia.biz', 'flowers-roberts.com', 'pruitt-hodges.com', 'scott.org', 'richards.net', 'johnson-smith.com', 'neal.com', 'webb.biz', 'henson-davis.com', 'bennett-freeman.com', 'todd.biz', 'olson-russell.com', 'valdez.net', 'wise.com', 'brown-clark.com', 'obrien.com', 'taylor.net', 'webster-gutierrez.biz', 'wright-page.com', 'maldonado.biz', 'williams-roberts.com', 'pacheco-carey.info', 'york-castillo.com', 'ellis.com', 'elliott-mccarty.com', 'hull.info', 'carr.com', 'gomez-rowland.com', 'rogers.info', 'figueroa-jones.com', 'barry.biz', 'lucero-ruiz.net', 'turner-jones.com', 'dean.com', 'murray.net', 'price-wilson.com', 'owens.com', 'cole-may.com', 'powell.org', 'mcdonald.biz', 'rasmussen.com', 'nguyen-harrington.com', 'carson.com', 'kelly.org', 'levy.com', 'holland.com', 'williams-flores.org', 'coffey-gordon.com', 'wise-olson.com', 'delgado.com', 'black.net', 'reynolds.info', 'adams.org', 'shaw-bender.org', 'sanford-lopez.com', 'copeland.org', 'greer.biz', 'proctor-young.com', 'robinson-alvarez.info', 'berg.info', 'salazar.com', 'johnson-calhoun.com', 'velez-rios.org', 'washington-christian.com', 'young.net', 'taylor-white.net', 'peterson.biz', 'meza.info', 'rosales-gutierrez.net', 'lara-wright.com', 'alvarez-klein.net', 'giles.net', 'cooper-gonzales.net', 'simmons-zimmerman.com', 'jacobson.com', 'rice.com', 'gordon.info', 'wu-allen.com', 'brown-peck.net', 'riddle-smith.com', 'anderson-avila.info', 'petersen-richard.com', 'tyler-anderson.com', 'carter.net', 'harris-scott.info', 'crosby.info', 'carter-patel.net', 'wong-mueller.com', 'ayers.com', 'munoz.biz', 'smith-ford.biz', 'lin.biz', 'thomas-wagner.com', 'tyler-jarvis.com', 'barron.net', 'butler-espinoza.info', 'dunn.biz', 'smith-robinson.com', 'montes-schmidt.com', 'cannon-chandler.net', 'smith-jacobson.org', 'hoffman-brooks.com', 'barr.com', 'kramer-lopez.info', 'fields.com', 'decker-buchanan.com', 'brown-smith.biz', 'acevedo-pena.biz', 'byrd.info', 'guerrero-sullivan.org', 'blake.info', 'everett.biz', 'logan.biz', 'reyes-miller.com', 'pearson.com', 'rhodes.biz', 'edwards.org', 'wade.com', 'lee.org', 'hill-bentley.net', 'lutz.org', 'henry-meyer.biz', 'ford-webb.com', 'macias-williams.net', 'taylor-ramirez.com', 'marshall-nichols.com', 'nguyen-smith.net', 'strickland.net', 'herrera-george.info', 'banks.com', 'peterson-may.com', 'huang.com', 'robbins-mcdonald.com', 'jarvis-lynch.org', 'kelly-castaneda.com', 'jensen-carter.biz', 'brown-dunn.com', 'spence.com', 'patton.org', 'sherman-calhoun.com', 'mcconnell.net', 'bradshaw-skinner.com', 'duffy-murray.com', 'diaz.net', 'francis.com', 'hart-lopez.com', 'dodson-warner.com', 'stevenson.com', 'ward-boyd.com', 'green-fields.net', 'carpenter-carney.com', 'fuentes-cruz.org', 'carey-howard.com', 'smith-ross.com', 'vazquez-freeman.com', 'lozano-ward.com', 'rollins.com', 'nguyen.net', 'curtis.org', 'smith-cortez.com', 'wade-myers.biz', 'martinez-wright.com', 'miller-ramsey.com', 'thornton.org', 'rosales.info', 'sanchez.net', 'guerrero-smith.org', 'mcguire.com', 'hardin.com', 'cox-fowler.info', 'moore-martinez.biz', 'brown-wiggins.com', 'miller.info', 'dunlap.net', 'johnson-schmidt.com', 'shelton.biz', 'cooley.com', 'pratt.com', 'butler.org', 'mclean-jenkins.biz', 'clark.biz', 'duncan-garcia.com', 'evans.com', 'cook-coffey.com', 'may-koch.org', 'clark.info', 'salazar.org', 'martinez.net', 'tate.info', 'moss.com', 'santana-fernandez.biz', 'carson.net', 'pittman.com', 'price-lynch.com', 'goodman.biz', 'park-soto.com', 'anderson-robinson.com', 'davis-gordon.com', 'martinez-bryant.com', 'walker-morales.com', 'gonzalez.info', 'rivera.org', 'pierce.com', 'reeves-brown.biz', 'henry-marquez.net', 'hughes.info', 'stafford.com', 'perez.net', 'rogers-hayes.info', 'jarvis.biz', 'rice.biz', 'allen-rodriguez.com', 'kim.com', 'daugherty-graves.biz', 'patton.com', 'brown-brown.com', 'ford-martinez.com', 'diaz.com', 'king.org', 'schultz.biz', 'walsh-moore.com', 'austin.info', 'porter-klein.com', 'lyons-allen.com', 'mcdaniel-hendricks.com', 'payne-bell.info', 'vasquez-miller.net', 'wheeler-goodman.com', 'krause.com', 'spencer.com', 'castillo-martinez.com', 'chapman-rhodes.com', 'tucker.org', 'mitchell-yates.com', 'orr-elliott.biz', 'avery-smith.com', 'cobb-mcdonald.com', 'pena.net', 'mills.biz', 'french-pittman.org', 'newton.com', 'reed.biz', 'perez.org', 'love-patterson.com', 'long.com', 'green-brown.com', 'marquez.biz', 'morris.biz', 'hawkins.com', 'goodwin-henderson.com', 'curtis-bernard.com', 'hinton-smith.info', 'weber-gordon.biz', 'lawson-nguyen.com', 'day-gallegos.com', 'smith-rivera.org', 'smith-bates.com', 'krause.biz', 'vargas-vasquez.com', 'coffey-ross.biz', 'becker.com', 'martin.com', 'meadows-smith.biz', 'arroyo.org', 'rodriguez.net', 'guerrero-shah.com', 'villa-white.info', 'anderson-petersen.com', 'delacruz.org', 'cole.net', 'li.info', 'matthews.com', 'english.org', 'lee.info', 'wyatt-hill.com', 'wiggins.net', 'mason-macdonald.biz', 'richardson-flores.com', 'bennett-matthews.biz', 'martin-alexander.com', 'harrington-crawford.com', 'wood.net', 'brooks.com', 'torres-williams.com', 'morris-moore.com', 'smith-butler.net', 'castaneda.com', 'good-brooks.com', 'reed-gonzalez.com', 'austin-nichols.com', 'lloyd.com', 'bartlett.com', 'kirby.info', 'sawyer.com', 'landry.com', 'edwards.info', 'hoffman.info', 'cannon.org', 'edwards-harvey.com', 'wright.net', 'petersen.com', 'morris-thomas.com', 'christensen.com', 'johnson-benitez.net', 'nelson-fields.com', 'anderson-duke.com', 'castro.net', 'hall.biz', 'hoffman-cantu.com', 'castillo-robertson.com', 'scott.com', 'rosario.com', 'walker-mckee.org', 'greer-vasquez.info', 'williams-doyle.com', 'miller-frank.com', 'shepherd.com', 'ellison.com', 'cochran.com', 'washington-jones.com', 'shaw.biz', 'ross-maldonado.biz', 'young-morgan.com', 'daniel.com', 'mclean.com', 'salinas.com', 'ballard.net', 'english-lewis.com', 'lowery.info', 'miller.net', 'harrington-smith.com', 'jones-dean.com', 'stevens.biz', 'stephens-thompson.com', 'george.biz', 'hartman.com', 'choi-schwartz.com', 'hardy-flores.info', 'gonzalez-palmer.org', 'kent-butler.org', 'craig.biz', 'lutz-silva.net', 'krause-rose.net', 'hatfield.biz', 'morris-rasmussen.com', 'mclaughlin.net', 'shaffer.com', 'torres-torres.info', 'roberts-howell.biz', 'gibbs.com', 'casey-mejia.org', 'mcbride.net', 'hamilton.com', 'williams-tate.info', 'armstrong-estrada.biz', 'barnes.biz', 'dawson.info', 'lopez-buck.info', 'foster-drake.com', 'flores-white.com', 'dillon-bender.com', 'burke-rojas.biz', 'pittman.net', 'gould-townsend.com', 'jackson-fletcher.com', 'hernandez-walters.org', 'owens.biz', 'cordova.com', 'wilson.net', 'lewis.info', 'wilkerson.net', 'anderson-davidson.com', 'wolfe-obrien.net', 'velazquez-smith.com', 'bates-wood.biz', 'carney-peterson.com', 'long-santos.org', 'english.biz', 'franco-green.com', 'jimenez.info', 'leonard.com', 'harris-wall.org', 'miles-brown.info', 'berry-davis.com', 'jackson-pitts.com', 'hinton-stevens.net', 'ross.info', 'morales-harrison.com', 'nguyen-goodman.biz', 'gonzalez-bradley.org', 'moore-alvarado.info', 'powell.net', 'harrell.biz', 'stevens.net', 'chavez.info', 'ramirez-flynn.com', 'adams.com', 'little-delgado.com', 'jones-anderson.com', 'paul.biz', 'wright.com', 'foley.com', 'deleon.net', 'young-cole.com', 'vazquez.com', 'webster-pearson.info', 'ramirez-kelly.com', 'hale-medina.com', 'bray.biz', 'petersen-galvan.com', 'lewis-brown.net', 'barrera.biz', 'webb-sanchez.org', 'alexander-gibson.org', 'stone.net', 'adams-garcia.net', 'rasmussen.biz', 'robles-roberts.biz', 'orozco-collins.com', 'gibson.com', 'munoz-simmons.com', 'butler-thompson.net', 'smith-davis.biz', 'newton.net', 'bates.com', 'gonzalez-lee.com', 'gomez.org', 'jones.org', 'bell.com', 'walker.info', 'gomez.info', 'jensen-brown.org', 'anderson-fleming.biz', 'herrera.com', 'jackson-irwin.com', 'owen.com', 'delacruz-dyer.info', 'huffman.info', 'montgomery.biz', 'thompson-mcconnell.com', 'humphrey.com', 'mcgee-weaver.com', 'perez.biz', 'anderson-werner.biz', 'henderson-collins.com', 'adkins.info', 'griffin-thomas.com', 'wallace-hicks.com', 'howell-garcia.com', 'rowland.biz', 'russell.biz', 'carpenter.info', 'lowery.com', 'moyer.biz', 'powell.biz', 'watts-schmidt.org', 'shaw.net', 'kennedy-jones.com', 'hardy-thomas.com', 'gonzales.com', 'rodgers.net', 'hutchinson.com', 'blevins-acevedo.com', 'wilson.org', 'oliver.org', 'bennett.biz', 'sims.net', 'atkins.biz', 'nash.com', 'bruce.com', 'olsen.com', 'love.biz', 'young-shepherd.com', 'torres-meyer.biz', 'choi.net', 'boone-barton.com', 'henderson.net', 'gonzalez.com', 'lopez.biz', 'jones.biz', 'cardenas.net', 'hurst.com', 'baldwin-sandoval.com', 'brooks-morales.com', 'norris.info', 'hancock-harris.info', 'munoz.org', 'solomon.com', 'drake.com', 'potter-escobar.com', 'morales-schneider.net', 'greer-higgins.com', 'owens.info', 'harris-bell.info', 'grant-jackson.biz', 'morris.org', 'coffey.net', 'logan-price.com', 'thompson-baker.biz', 'roman.com', 'harper.com', 'peck.com', 'morales-hood.com', 'richardson.com', 'oneal.com', 'gregory.com', 'ellis.net', 'turner.info', 'glenn-brown.com', 'mckee.info', 'erickson.org', 'scott.net', 'sellers-perez.net', 'hardy.net', 'larsen-rodriguez.com', 'parker.com', 'willis.org', 'carpenter.com', 'miller-owens.com', 'delgado-jordan.com', 'ford-cisneros.com', 'austin.org', 'sanchez-mack.com', 'larsen.com', 'sanders-powell.com', 'shepard-lee.com', 'carroll-tyler.org', 'lopez.org', 'hansen.biz', 'coleman.com', 'duncan.info', 'powers-reyes.com', 'arnold.net', 'aguilar.org', 'patterson-gutierrez.com', 'lester.com', 'brewer.org', 'ortiz.biz', 'taylor-gregory.com', 'maxwell.com', 'cherry.com', 'roberts-petersen.biz', 'graham-green.net', 'snyder-schroeder.net', 'smith.org', 'rollins.org', 'haley-gibson.com', 'perry.net', 'obrien-cabrera.com', 'gomez-hicks.com', 'rodgers-morris.biz', 'thompson-garcia.org', 'dorsey.com', 'barron-ortega.biz', 'macias.com', 'rivera.com', 'wagner.com', 'ruiz-smith.info', 'rodriguez-yang.com', 'reid.net', 'flynn.net', 'wilson-walker.com', 'stout.com', 'hughes-baker.com', 'clements-townsend.com', 'fields.org', 'williams-garner.com', 'chavez-perkins.com', 'floyd.com', 'mendoza.org', 'mosley-buchanan.com', 'hernandez-johnson.org', 'ortiz.org', 'johnson-maxwell.biz', 'mendez.com', 'miller-griffith.com', 'evans.net', 'hicks.net', 'ellis-young.info', 'grant-cooper.com', 'pacheco.net', 'long.net', 'henry.biz', 'wilkinson-hill.org', 'levy-smith.com', 'berry.info', 'galvan.com', 'montoya.com', 'smith-calhoun.com', 'smith-mcdonald.info', 'hopkins.org', 'turner-hall.net', 'hutchinson-gallegos.info', 'burnett.com', 'blackburn-green.com', 'cunningham-miller.com', 'haynes-bailey.info', 'murray.com', 'kerr-rhodes.net', 'hanson.net', 'turner-ward.org', 'hart-reynolds.com', 'gallegos-larson.com', 'hardy.com', 'manning.com', 'humphrey.org', 'haynes-matthews.info', 'smith-kim.com', 'snyder.biz', 'escobar.com', 'nichols-wagner.net', 'fuller.info', 'lewis.org', 'schneider.org', 'wong.org', 'west-phillips.info', 'garcia-contreras.com', 'price.info', 'white-beck.com', 'nguyen.com', 'brown-martin.biz', 'golden.com', 'harris-quinn.info', 'robles.info', 'rodriguez-sweeney.com', 'blevins.com', 'wang-oneal.net', 'powers.net', 'taylor.info', 'cox.biz', 'sanders.com', 'shaffer-boone.net', 'allen.biz', 'lee-schaefer.org', 'allen-kennedy.org', 'may.com', 'luna-james.org', 'herrera-mathis.com', 'taylor-mercado.com', 'murphy.com', 'dominguez.org', 'clay.net', 'hicks-thompson.org', 'davenport-zimmerman.com', 'mccarthy-green.org', 'campos.info', 'mason.com', 'sanchez-mccoy.com', 'vargas-peters.com', 'ryan-meza.com', 'carlson.com', 'carrillo.com', 'rose-hart.com', 'rios.com', 'wells-choi.com', 'hansen.com', 'buckley-berg.info', 'blackwell-wood.info', 'howell-nelson.net', 'perkins.com', 'carroll.com', 'schmidt.org', 'matthews-herman.info', 'hart-young.com', 'wang-williams.com', 'blake.org', 'hughes.org', 'manning.org', 'trujillo.info', 'mendoza.biz', 'weber-keller.com', 'black-smith.com', 'murphy-garcia.com', 'becker-jones.com', 'vega-taylor.net', 'anderson.net', 'vega.info', 'ramos.net', 'parks-hicks.org', 'ward-ruiz.org', 'pierce-calhoun.com', 'johnson-marks.com', 'mcconnell-gaines.com', 'nelson-morris.com', 'roth.com', 'gordon-franklin.net', 'mann.org', 'saunders.net', 'greene.biz', 'melendez-decker.net', 'lopez-castro.com', 'rodgers-colon.com', 'higgins-miller.net', 'nguyen-rodriguez.com', 'gray.net', 'cooper.net', 'gutierrez.info', 'cabrera.com', 'snyder-mercer.info', 'powers.com', 'martinez-delgado.info', 'duncan.com', 'lynch.biz', 'bell-stewart.com', 'cohen-cantrell.net', 'marshall-peck.com', 'dillon-archer.biz', 'velez.com', 'smith-brown.info', 'morris.com', 'sanchez.biz', 'gallagher-payne.com', 'coffey.org', 'moore.biz', 'woods-gutierrez.com', 'kim-rodriguez.com', 'harper-mcmillan.com', 'ramos-moreno.com', 'fitzpatrick-harrison.com', 'robbins-moreno.biz', 'charles.net', 'little.biz', 'hunter-roberts.com', 'spencer.net', 'wells.com', 'turner-lee.com', 'valenzuela-mccarty.org', 'henderson-peterson.org', 'miranda-nelson.com', 'allen-anderson.com', 'summers.info', 'ritter.com', 'perez.com', 'silva-cohen.com', 'wise.info', 'cooper-garcia.org', 'bryant.biz', 'bird-mckinney.com', 'weiss.com', 'lindsey.net', 'thomas-delgado.com', 'haney.com', 'holloway.com', 'nelson-rios.com', 'frost.org', 'gonzalez-smith.com', 'blake.com', 'marshall.info', 'clark-phillips.net', 'kaufman.info', 'white-alexander.com', 'lewis-lewis.com', 'mitchell-daugherty.com', 'pennington.com', 'powell-sullivan.net', 'erickson.biz', 'thompson.org', 'wiggins-tucker.com', 'smith-jenkins.net', 'bates.net', 'lee-burke.org', 'santana-perez.org', 'hendrix-reed.com', 'figueroa.com', 'robbins.biz', 'bell.biz', 'sandoval.com', 'lopez-reynolds.com', 'kelly-mcbride.com', 'schneider.com', 'avery.biz', 'mitchell-cook.com', 'carlson.org', 'stewart.com', 'pacheco.com', 'smith-jones.net', 'watson-carter.com', 'wallace-moore.info', 'cook.info', 'riley.net', 'jones.info', 'lowe-baird.net', 'padilla.com', 'white-mitchell.info', 'lang.biz', 'guerrero.com', 'smith-chavez.com', 'perry-ayala.com', 'christian.com', 'williams.com', 'cowan.net', 'mckenzie.biz', 'jones-james.info', 'rose-gilbert.com', 'walsh.com', 'stevenson-curry.biz', 'turner-cline.com', 'jones.net', 'long.org', 'hart.net', 'patterson.org', 'nelson.biz', 'alexander-hall.net', 'sullivan.info', 'wolfe-jimenez.biz', 'short.org', 'campbell-humphrey.com', 'lane.com', 'guzman-davis.com', 'campbell.com', 'harris.org', 'chaney-allen.com', 'edwards-morales.biz', 'walker-parsons.org', 'gonzalez.biz', 'curry-medina.com', 'carey-davis.com', 'lopez-kelly.com', 'terrell.com', 'mckinney.com', 'hotmail.com', 'hill-maynard.com', 'mcfarland.com', 'short-knight.biz', 'walters.biz', 'mendoza-burke.com', 'matthews-martinez.com', 'davila.com', 'giles-rogers.info', 'frey.com', 'ortiz-james.org', 'fry-rice.com', 'forbes-barton.biz', 'cook.biz', 'williamson-simpson.com', 'vega-ellis.org', 'phillips.com', 'schneider.net', 'duncan.biz', 'reeves.com', 'riley.com', 'peters-schmidt.com', 'stephenson-stephens.biz', 'sharp.com', 'wong.biz', 'garrett-ramos.com', 'archer-quinn.com', 'hebert.org', 'foster-hoffman.com', 'morris-young.org', 'fitzgerald.com', 'carey-brown.com', 'alvarez-stokes.net', 'frazier-hunter.net', 'padilla-sullivan.org', 'santana.net', 'keith-dunlap.com', 'stevens.org', 'kline.net', 'farmer.com', 'butler-wolf.biz', 'cunningham-barrett.net', 'wyatt-williams.com', 'sherman-perry.org', 'medina.com', 'flores-ruiz.com', 'kline.com', 'spears.info', 'butler.info', 'townsend-reed.info', 'ward.info', 'harris-patton.com', 'burton-bowen.org', 'walker-wiley.info', 'hodge.com', 'roman.net', 'brown-wagner.org', 'carrillo-pacheco.biz', 'stevenson.biz', 'harmon.com', 'buchanan.net', 'shelton-luna.net', 'mccullough-russo.biz', 'mcdonald-flynn.info', 'miller-anderson.com', 'davies.com', 'fisher.org', 'molina-price.com', 'finley-snyder.net', 'ellis-sullivan.org', 'baker.net', 'mcintosh-hernandez.info', 'andrews.biz', 'smith-myers.com', 'brown-parks.com', 'kemp.com', 'morris.net', 'armstrong-livingston.info', 'hayes-pruitt.biz', 'hoffman.com', 'rose.biz', 'fitzpatrick.net', 'valenzuela-mccormick.biz', 'christian-lee.com', 'norris-taylor.org', 'woods-mitchell.com', 'andersen.com', 'dunn.com', 'sloan-macdonald.com', 'peters-wolfe.com', 'johnson-perez.info', 'freeman-hendrix.info', 'york-atkins.com', 'tucker.net', 'stephenson-callahan.com', 'james.biz', 'haynes.com', 'moore.com', 'wright.org', 'burns-williams.net', 'davis.info', 'castillo.biz', 'walker-jenkins.com', 'bailey-ramsey.net', 'hunter-gilbert.org', 'rodriguez-martinez.com', 'jackson.info', 'webb.com', 'tran.biz', 'carson-kennedy.com', 'sexton.info', 'sloan.com', 'wallace-shaw.com', 'cole.com', 'acosta.biz', 'massey.org', 'meyer-lowery.com', 'cooper.com', 'cruz-brown.org', 'johnson-whitney.org', 'baker-thomas.com', 'rubio-ward.com', 'quinn-flynn.org', 'carter.com', 'gamble.com', 'rios-wilson.net', 'higgins.com', 'wilkerson.org', 'guzman.info', 'duffy.com', 'conway-price.com', 'rivas-glover.com', 'gibson-west.com', 'goodman.org', 'morgan.info', 'bailey.info', 'velasquez.com', 'jacobson.org', 'bowen.net', 'morales-horne.com', 'greer.com', 'hunt.com', 'murphy.net', 'clay-smith.com', 'walters.com', 'nelson.org', 'black-sullivan.com', 'allen-bentley.com', 'burgess-hall.com', 'richards.org', 'nelson-marquez.info', 'murray-jones.com', 'page.com', 'hood-cook.com', 'mosley.org', 'armstrong.com', 'james.info', 'browning.com', 'mora.info', 'bright.com', 'mcdonald.com', 'smith-stone.net', 'gardner.com', 'brown-davis.com', 'meyer-patterson.com', 'johnson-oliver.net', 'cunningham.com', 'trevino.com', 'hart-daniels.com', 'kennedy.com', 'little-smith.com', 'richmond.com', 'rodgers-lane.com', 'randall-villarreal.com', 'navarro.info', 'mathews.org', 'barnett.org', 'parks-alvarado.net', 'santos.com', 'boyd.org', 'cox.info', 'riddle.com', 'mendez.biz', 'gibbs.biz', 'stone.org', 'brown-kelly.com', 'hall-poole.biz', 'fuller.com', 'levine.info'}\n"
          ]
        }
      ]
    },
    {
      "cell_type": "code",
      "source": [
        "df['Email'].str.split('@' ,expand=True)[1]"
      ],
      "metadata": {
        "colab": {
          "base_uri": "https://localhost:8080/",
          "height": 458
        },
        "id": "b9Krzk1XYUSB",
        "outputId": "11743289-9ddd-4f71-c654-c1346c9d7eb3"
      },
      "execution_count": null,
      "outputs": [
        {
          "output_type": "execute_result",
          "data": {
            "text/plain": [
              "0                  yahoo.com\n",
              "1                   reed.com\n",
              "2       morales-harrison.com\n",
              "3        olson-robinson.info\n",
              "4                  gmail.com\n",
              "                ...         \n",
              "9995         wade-garner.com\n",
              "9996             hotmail.com\n",
              "9997               gmail.com\n",
              "9998                reid.net\n",
              "9999              vaughn.com\n",
              "Name: 1, Length: 10000, dtype: object"
            ],
            "text/html": [
              "<div>\n",
              "<style scoped>\n",
              "    .dataframe tbody tr th:only-of-type {\n",
              "        vertical-align: middle;\n",
              "    }\n",
              "\n",
              "    .dataframe tbody tr th {\n",
              "        vertical-align: top;\n",
              "    }\n",
              "\n",
              "    .dataframe thead th {\n",
              "        text-align: right;\n",
              "    }\n",
              "</style>\n",
              "<table border=\"1\" class=\"dataframe\">\n",
              "  <thead>\n",
              "    <tr style=\"text-align: right;\">\n",
              "      <th></th>\n",
              "      <th>1</th>\n",
              "    </tr>\n",
              "  </thead>\n",
              "  <tbody>\n",
              "    <tr>\n",
              "      <th>0</th>\n",
              "      <td>yahoo.com</td>\n",
              "    </tr>\n",
              "    <tr>\n",
              "      <th>1</th>\n",
              "      <td>reed.com</td>\n",
              "    </tr>\n",
              "    <tr>\n",
              "      <th>2</th>\n",
              "      <td>morales-harrison.com</td>\n",
              "    </tr>\n",
              "    <tr>\n",
              "      <th>3</th>\n",
              "      <td>olson-robinson.info</td>\n",
              "    </tr>\n",
              "    <tr>\n",
              "      <th>4</th>\n",
              "      <td>gmail.com</td>\n",
              "    </tr>\n",
              "    <tr>\n",
              "      <th>...</th>\n",
              "      <td>...</td>\n",
              "    </tr>\n",
              "    <tr>\n",
              "      <th>9995</th>\n",
              "      <td>wade-garner.com</td>\n",
              "    </tr>\n",
              "    <tr>\n",
              "      <th>9996</th>\n",
              "      <td>hotmail.com</td>\n",
              "    </tr>\n",
              "    <tr>\n",
              "      <th>9997</th>\n",
              "      <td>gmail.com</td>\n",
              "    </tr>\n",
              "    <tr>\n",
              "      <th>9998</th>\n",
              "      <td>reid.net</td>\n",
              "    </tr>\n",
              "    <tr>\n",
              "      <th>9999</th>\n",
              "      <td>vaughn.com</td>\n",
              "    </tr>\n",
              "  </tbody>\n",
              "</table>\n",
              "<p>10000 rows × 1 columns</p>\n",
              "</div><br><label><b>dtype:</b> object</label>"
            ]
          },
          "metadata": {},
          "execution_count": 133
        }
      ]
    },
    {
      "cell_type": "code",
      "source": [
        "# name of companies that russians buy something from:\n",
        "df[df['Language'] == \"ru\"]['Company'].unique()"
      ],
      "metadata": {
        "id": "yqyBmd75e_E9"
      },
      "execution_count": null,
      "outputs": []
    },
    {
      "cell_type": "code",
      "source": [
        "# number of purchases above 90 by engineers:\n",
        "def isEngineer(title):\n",
        "  if 'engineer' in title.lower():\n",
        "    return True\n",
        "  return False\n",
        "sum(df[df['Job'].apply(lambda x: isEngineer(x))]['Purchase Price'] > 90)"
      ],
      "metadata": {
        "id": "rHa0RY0rfDqT"
      },
      "execution_count": null,
      "outputs": []
    },
    {
      "cell_type": "code",
      "source": [
        "# Number of gmail users :\n",
        "def isGmail(email):\n",
        "  if 'gmail' in email.lower(): return True\n",
        "  else: return False\n",
        "sum(df['Email'].apply(lambda e: isGmail(e)))"
      ],
      "metadata": {
        "id": "E0ZRKro7fafU",
        "outputId": "2a480a7e-88e1-48ef-ae8b-926800e335af",
        "colab": {
          "base_uri": "https://localhost:8080/"
        }
      },
      "execution_count": 5,
      "outputs": [
        {
          "output_type": "execute_result",
          "data": {
            "text/plain": [
              "1605"
            ]
          },
          "metadata": {},
          "execution_count": 5
        }
      ]
    },
    {
      "cell_type": "code",
      "source": [
        "# purchases between 15 and 30:\n",
        "sum(df[df['Purchase Price'] > 15]['Purchase Price'] < 30)"
      ],
      "metadata": {
        "id": "VU9hWtOsf2iE",
        "outputId": "78fc593e-ce03-401e-f123-7d425d62ef36",
        "colab": {
          "base_uri": "https://localhost:8080/"
        }
      },
      "execution_count": 6,
      "outputs": [
        {
          "output_type": "execute_result",
          "data": {
            "text/plain": [
              "1504"
            ]
          },
          "metadata": {},
          "execution_count": 6
        }
      ]
    },
    {
      "cell_type": "code",
      "source": [
        "# sum of the addresses that Purchase more than one!\n",
        "sum(df['Address'].value_counts() > 1)"
      ],
      "metadata": {
        "id": "_rvrl4ahf49D",
        "outputId": "b3f528ad-f68d-4734-ed5a-f02ed8680b70",
        "colab": {
          "base_uri": "https://localhost:8080/"
        }
      },
      "execution_count": 7,
      "outputs": [
        {
          "output_type": "execute_result",
          "data": {
            "text/plain": [
              "0"
            ]
          },
          "metadata": {},
          "execution_count": 7
        }
      ]
    }
  ]
}